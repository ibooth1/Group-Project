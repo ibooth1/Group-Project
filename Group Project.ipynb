{
 "cells": [
  {
   "cell_type": "code",
   "execution_count": 139,
   "metadata": {},
   "outputs": [
    {
     "name": "stderr",
     "output_type": "stream",
     "text": [
      "C:\\Users\\isaac\\Anaconda3\\lib\\site-packages\\IPython\\core\\interactiveshell.py:2785: DtypeWarning: Columns (6,9,1725,1726,1727,1728,1729,1743,1815,1816,1817,1818,1823,1824,1830,1831) have mixed types. Specify dtype option on import or set low_memory=False.\n",
      "  interactivity=interactivity, compiler=compiler, result=result)\n"
     ]
    }
   ],
   "source": [
    "import pandas as pd\n",
    "import numpy as np\n",
    "\n",
    "loc = \"MERGED2016_17_PP.csv\"\n",
    "\n",
    "dfraw = pd.read_csv(loc)"
   ]
  },
  {
   "cell_type": "code",
   "execution_count": 140,
   "metadata": {},
   "outputs": [
    {
     "data": {
      "text/html": [
       "<div>\n",
       "<style scoped>\n",
       "    .dataframe tbody tr th:only-of-type {\n",
       "        vertical-align: middle;\n",
       "    }\n",
       "\n",
       "    .dataframe tbody tr th {\n",
       "        vertical-align: top;\n",
       "    }\n",
       "\n",
       "    .dataframe thead th {\n",
       "        text-align: right;\n",
       "    }\n",
       "</style>\n",
       "<table border=\"1\" class=\"dataframe\">\n",
       "  <thead>\n",
       "    <tr style=\"text-align: right;\">\n",
       "      <th></th>\n",
       "      <th>UNITID</th>\n",
       "      <th>OPEID</th>\n",
       "      <th>OPEID6</th>\n",
       "      <th>INSTNM</th>\n",
       "      <th>CITY</th>\n",
       "      <th>STABBR</th>\n",
       "      <th>ZIP</th>\n",
       "      <th>ACCREDAGENCY</th>\n",
       "      <th>INSTURL</th>\n",
       "      <th>NPCURL</th>\n",
       "      <th>...</th>\n",
       "      <th>D150_4_LOANNOPELL</th>\n",
       "      <th>C150_L4_LOANNOPELL</th>\n",
       "      <th>D150_L4_LOANNOPELL</th>\n",
       "      <th>C150_4_NOLOANNOPELL</th>\n",
       "      <th>D150_4_NOLOANNOPELL</th>\n",
       "      <th>C150_L4_NOLOANNOPELL</th>\n",
       "      <th>D150_L4_NOLOANNOPELL</th>\n",
       "      <th>GT_28K_P10</th>\n",
       "      <th>GT_28K_P8</th>\n",
       "      <th>GT_28K_P6</th>\n",
       "    </tr>\n",
       "  </thead>\n",
       "  <tbody>\n",
       "    <tr>\n",
       "      <th>0</th>\n",
       "      <td>100654</td>\n",
       "      <td>100200</td>\n",
       "      <td>1002</td>\n",
       "      <td>Alabama A &amp; M University</td>\n",
       "      <td>Normal</td>\n",
       "      <td>AL</td>\n",
       "      <td>35762</td>\n",
       "      <td>Southern Association of Colleges and Schools C...</td>\n",
       "      <td>www.aamu.edu/</td>\n",
       "      <td>www2.aamu.edu/scripts/netpricecalc/npcalc.htm</td>\n",
       "      <td>...</td>\n",
       "      <td>195.0</td>\n",
       "      <td>NaN</td>\n",
       "      <td>NaN</td>\n",
       "      <td>0.3258</td>\n",
       "      <td>89.0</td>\n",
       "      <td>NaN</td>\n",
       "      <td>NaN</td>\n",
       "      <td>NaN</td>\n",
       "      <td>NaN</td>\n",
       "      <td>NaN</td>\n",
       "    </tr>\n",
       "    <tr>\n",
       "      <th>1</th>\n",
       "      <td>100663</td>\n",
       "      <td>105200</td>\n",
       "      <td>1052</td>\n",
       "      <td>University of Alabama at Birmingham</td>\n",
       "      <td>Birmingham</td>\n",
       "      <td>AL</td>\n",
       "      <td>35294-0110</td>\n",
       "      <td>Southern Association of Colleges and Schools C...</td>\n",
       "      <td>www.uab.edu</td>\n",
       "      <td>uab.studentaidcalculator.com/survey.aspx</td>\n",
       "      <td>...</td>\n",
       "      <td>229.0</td>\n",
       "      <td>NaN</td>\n",
       "      <td>NaN</td>\n",
       "      <td>0.5603</td>\n",
       "      <td>630.0</td>\n",
       "      <td>NaN</td>\n",
       "      <td>NaN</td>\n",
       "      <td>NaN</td>\n",
       "      <td>NaN</td>\n",
       "      <td>NaN</td>\n",
       "    </tr>\n",
       "    <tr>\n",
       "      <th>2</th>\n",
       "      <td>100690</td>\n",
       "      <td>2503400</td>\n",
       "      <td>25034</td>\n",
       "      <td>Amridge University</td>\n",
       "      <td>Montgomery</td>\n",
       "      <td>AL</td>\n",
       "      <td>36117-3553</td>\n",
       "      <td>Southern Association of Colleges and Schools C...</td>\n",
       "      <td>www.amridgeuniversity.edu</td>\n",
       "      <td>www2.amridgeuniversity.edu:9091/</td>\n",
       "      <td>...</td>\n",
       "      <td>NaN</td>\n",
       "      <td>NaN</td>\n",
       "      <td>NaN</td>\n",
       "      <td>0.5000</td>\n",
       "      <td>2.0</td>\n",
       "      <td>NaN</td>\n",
       "      <td>NaN</td>\n",
       "      <td>NaN</td>\n",
       "      <td>NaN</td>\n",
       "      <td>NaN</td>\n",
       "    </tr>\n",
       "    <tr>\n",
       "      <th>3</th>\n",
       "      <td>100706</td>\n",
       "      <td>105500</td>\n",
       "      <td>1055</td>\n",
       "      <td>University of Alabama in Huntsville</td>\n",
       "      <td>Huntsville</td>\n",
       "      <td>AL</td>\n",
       "      <td>35899</td>\n",
       "      <td>Southern Association of Colleges and Schools C...</td>\n",
       "      <td>www.uah.edu</td>\n",
       "      <td>finaid.uah.edu/</td>\n",
       "      <td>...</td>\n",
       "      <td>135.0</td>\n",
       "      <td>NaN</td>\n",
       "      <td>NaN</td>\n",
       "      <td>0.5606</td>\n",
       "      <td>264.0</td>\n",
       "      <td>NaN</td>\n",
       "      <td>NaN</td>\n",
       "      <td>NaN</td>\n",
       "      <td>NaN</td>\n",
       "      <td>NaN</td>\n",
       "    </tr>\n",
       "    <tr>\n",
       "      <th>4</th>\n",
       "      <td>100724</td>\n",
       "      <td>100500</td>\n",
       "      <td>1005</td>\n",
       "      <td>Alabama State University</td>\n",
       "      <td>Montgomery</td>\n",
       "      <td>AL</td>\n",
       "      <td>36104-0271</td>\n",
       "      <td>Southern Association of Colleges and Schools C...</td>\n",
       "      <td>www.alasu.edu</td>\n",
       "      <td>www.alasu.edu/cost-aid/forms/calculator/index....</td>\n",
       "      <td>...</td>\n",
       "      <td>55.0</td>\n",
       "      <td>NaN</td>\n",
       "      <td>NaN</td>\n",
       "      <td>0.2277</td>\n",
       "      <td>101.0</td>\n",
       "      <td>NaN</td>\n",
       "      <td>NaN</td>\n",
       "      <td>NaN</td>\n",
       "      <td>NaN</td>\n",
       "      <td>NaN</td>\n",
       "    </tr>\n",
       "  </tbody>\n",
       "</table>\n",
       "<p>5 rows × 1847 columns</p>\n",
       "</div>"
      ],
      "text/plain": [
       "   UNITID    OPEID  OPEID6                               INSTNM        CITY  \\\n",
       "0  100654   100200    1002             Alabama A & M University      Normal   \n",
       "1  100663   105200    1052  University of Alabama at Birmingham  Birmingham   \n",
       "2  100690  2503400   25034                   Amridge University  Montgomery   \n",
       "3  100706   105500    1055  University of Alabama in Huntsville  Huntsville   \n",
       "4  100724   100500    1005             Alabama State University  Montgomery   \n",
       "\n",
       "  STABBR         ZIP                                       ACCREDAGENCY  \\\n",
       "0     AL       35762  Southern Association of Colleges and Schools C...   \n",
       "1     AL  35294-0110  Southern Association of Colleges and Schools C...   \n",
       "2     AL  36117-3553  Southern Association of Colleges and Schools C...   \n",
       "3     AL       35899  Southern Association of Colleges and Schools C...   \n",
       "4     AL  36104-0271  Southern Association of Colleges and Schools C...   \n",
       "\n",
       "                     INSTURL  \\\n",
       "0              www.aamu.edu/   \n",
       "1                www.uab.edu   \n",
       "2  www.amridgeuniversity.edu   \n",
       "3                www.uah.edu   \n",
       "4              www.alasu.edu   \n",
       "\n",
       "                                              NPCURL    ...      \\\n",
       "0      www2.aamu.edu/scripts/netpricecalc/npcalc.htm    ...       \n",
       "1           uab.studentaidcalculator.com/survey.aspx    ...       \n",
       "2                   www2.amridgeuniversity.edu:9091/    ...       \n",
       "3                                    finaid.uah.edu/    ...       \n",
       "4  www.alasu.edu/cost-aid/forms/calculator/index....    ...       \n",
       "\n",
       "   D150_4_LOANNOPELL  C150_L4_LOANNOPELL  D150_L4_LOANNOPELL  \\\n",
       "0              195.0                 NaN                 NaN   \n",
       "1              229.0                 NaN                 NaN   \n",
       "2                NaN                 NaN                 NaN   \n",
       "3              135.0                 NaN                 NaN   \n",
       "4               55.0                 NaN                 NaN   \n",
       "\n",
       "   C150_4_NOLOANNOPELL  D150_4_NOLOANNOPELL  C150_L4_NOLOANNOPELL  \\\n",
       "0               0.3258                 89.0                   NaN   \n",
       "1               0.5603                630.0                   NaN   \n",
       "2               0.5000                  2.0                   NaN   \n",
       "3               0.5606                264.0                   NaN   \n",
       "4               0.2277                101.0                   NaN   \n",
       "\n",
       "   D150_L4_NOLOANNOPELL  GT_28K_P10  GT_28K_P8  GT_28K_P6  \n",
       "0                   NaN         NaN        NaN        NaN  \n",
       "1                   NaN         NaN        NaN        NaN  \n",
       "2                   NaN         NaN        NaN        NaN  \n",
       "3                   NaN         NaN        NaN        NaN  \n",
       "4                   NaN         NaN        NaN        NaN  \n",
       "\n",
       "[5 rows x 1847 columns]"
      ]
     },
     "execution_count": 140,
     "metadata": {},
     "output_type": "execute_result"
    }
   ],
   "source": [
    "dfraw.head()"
   ]
  },
  {
   "cell_type": "code",
   "execution_count": 141,
   "metadata": {},
   "outputs": [
    {
     "data": {
      "text/plain": [
       "(7175, 1847)"
      ]
     },
     "execution_count": 141,
     "metadata": {},
     "output_type": "execute_result"
    }
   ],
   "source": [
    "dfraw.shape"
   ]
  },
  {
   "cell_type": "markdown",
   "metadata": {},
   "source": [
    "### There are a ridiculous number of columns here, so lets grab some interesting variables and put them in their own dataframe"
   ]
  },
  {
   "cell_type": "code",
   "execution_count": 142,
   "metadata": {},
   "outputs": [],
   "source": [
    "df = dfraw[[\"C100_4\", \"NPT4_PUB\"]]\n",
    "df.columns = [\"completion\", \"public_school_tuition\"]"
   ]
  },
  {
   "cell_type": "code",
   "execution_count": 143,
   "metadata": {},
   "outputs": [
    {
     "data": {
      "text/html": [
       "<div>\n",
       "<style scoped>\n",
       "    .dataframe tbody tr th:only-of-type {\n",
       "        vertical-align: middle;\n",
       "    }\n",
       "\n",
       "    .dataframe tbody tr th {\n",
       "        vertical-align: top;\n",
       "    }\n",
       "\n",
       "    .dataframe thead th {\n",
       "        text-align: right;\n",
       "    }\n",
       "</style>\n",
       "<table border=\"1\" class=\"dataframe\">\n",
       "  <thead>\n",
       "    <tr style=\"text-align: right;\">\n",
       "      <th></th>\n",
       "      <th>completion</th>\n",
       "      <th>public_school_tuition</th>\n",
       "    </tr>\n",
       "  </thead>\n",
       "  <tbody>\n",
       "    <tr>\n",
       "      <th>0</th>\n",
       "      <td>0.0643</td>\n",
       "      <td>15567.0</td>\n",
       "    </tr>\n",
       "    <tr>\n",
       "      <th>1</th>\n",
       "      <td>0.3018</td>\n",
       "      <td>16475.0</td>\n",
       "    </tr>\n",
       "    <tr>\n",
       "      <th>2</th>\n",
       "      <td>0.1429</td>\n",
       "      <td>NaN</td>\n",
       "    </tr>\n",
       "    <tr>\n",
       "      <th>3</th>\n",
       "      <td>0.1533</td>\n",
       "      <td>19423.0</td>\n",
       "    </tr>\n",
       "    <tr>\n",
       "      <th>4</th>\n",
       "      <td>0.0725</td>\n",
       "      <td>15037.0</td>\n",
       "    </tr>\n",
       "  </tbody>\n",
       "</table>\n",
       "</div>"
      ],
      "text/plain": [
       "   completion  public_school_tuition\n",
       "0      0.0643                15567.0\n",
       "1      0.3018                16475.0\n",
       "2      0.1429                    NaN\n",
       "3      0.1533                19423.0\n",
       "4      0.0725                15037.0"
      ]
     },
     "execution_count": 143,
     "metadata": {},
     "output_type": "execute_result"
    }
   ],
   "source": [
    "df.head()"
   ]
  },
  {
   "cell_type": "code",
   "execution_count": 144,
   "metadata": {},
   "outputs": [
    {
     "data": {
      "text/html": [
       "<div>\n",
       "<style scoped>\n",
       "    .dataframe tbody tr th:only-of-type {\n",
       "        vertical-align: middle;\n",
       "    }\n",
       "\n",
       "    .dataframe tbody tr th {\n",
       "        vertical-align: top;\n",
       "    }\n",
       "\n",
       "    .dataframe thead th {\n",
       "        text-align: right;\n",
       "    }\n",
       "</style>\n",
       "<table border=\"1\" class=\"dataframe\">\n",
       "  <thead>\n",
       "    <tr style=\"text-align: right;\">\n",
       "      <th></th>\n",
       "      <th>completion</th>\n",
       "      <th>public_school_tuition</th>\n",
       "    </tr>\n",
       "  </thead>\n",
       "  <tbody>\n",
       "    <tr>\n",
       "      <th>completion</th>\n",
       "      <td>1.000000</td>\n",
       "      <td>0.515731</td>\n",
       "    </tr>\n",
       "    <tr>\n",
       "      <th>public_school_tuition</th>\n",
       "      <td>0.515731</td>\n",
       "      <td>1.000000</td>\n",
       "    </tr>\n",
       "  </tbody>\n",
       "</table>\n",
       "</div>"
      ],
      "text/plain": [
       "                       completion  public_school_tuition\n",
       "completion               1.000000               0.515731\n",
       "public_school_tuition    0.515731               1.000000"
      ]
     },
     "execution_count": 144,
     "metadata": {},
     "output_type": "execute_result"
    }
   ],
   "source": [
    "df.corr()"
   ]
  },
  {
   "cell_type": "markdown",
   "metadata": {},
   "source": [
    "### Joy suggested that INEXPFTE (instructional expenditures per full-time student) and ADM_RATE (admissions rate) are correlated with completion rates, so lets add those to the dataframe and run the correlation"
   ]
  },
  {
   "cell_type": "code",
   "execution_count": 145,
   "metadata": {},
   "outputs": [
    {
     "name": "stderr",
     "output_type": "stream",
     "text": [
      "C:\\Users\\isaac\\Anaconda3\\lib\\site-packages\\ipykernel_launcher.py:1: SettingWithCopyWarning: \n",
      "A value is trying to be set on a copy of a slice from a DataFrame.\n",
      "Try using .loc[row_indexer,col_indexer] = value instead\n",
      "\n",
      "See the caveats in the documentation: http://pandas.pydata.org/pandas-docs/stable/indexing.html#indexing-view-versus-copy\n",
      "  \"\"\"Entry point for launching an IPython kernel.\n",
      "C:\\Users\\isaac\\Anaconda3\\lib\\site-packages\\ipykernel_launcher.py:2: SettingWithCopyWarning: \n",
      "A value is trying to be set on a copy of a slice from a DataFrame.\n",
      "Try using .loc[row_indexer,col_indexer] = value instead\n",
      "\n",
      "See the caveats in the documentation: http://pandas.pydata.org/pandas-docs/stable/indexing.html#indexing-view-versus-copy\n",
      "  \n"
     ]
    }
   ],
   "source": [
    "df[\"expenditures_per_student\"] = dfraw[\"INEXPFTE\"]\n",
    "df[\"adm_rate\"] = dfraw[\"ADM_RATE\"]"
   ]
  },
  {
   "cell_type": "markdown",
   "metadata": {},
   "source": [
    "### I suggest looking at pell_grant_rate, and loan_principal. The intuition is that if you qualify for pell you're from a disadvantaged background and less likely to graduate"
   ]
  },
  {
   "cell_type": "code",
   "execution_count": 146,
   "metadata": {
    "scrolled": true
   },
   "outputs": [
    {
     "name": "stderr",
     "output_type": "stream",
     "text": [
      "C:\\Users\\isaac\\Anaconda3\\lib\\site-packages\\ipykernel_launcher.py:1: SettingWithCopyWarning: \n",
      "A value is trying to be set on a copy of a slice from a DataFrame.\n",
      "Try using .loc[row_indexer,col_indexer] = value instead\n",
      "\n",
      "See the caveats in the documentation: http://pandas.pydata.org/pandas-docs/stable/indexing.html#indexing-view-versus-copy\n",
      "  \"\"\"Entry point for launching an IPython kernel.\n"
     ]
    }
   ],
   "source": [
    "df[\"pell_grant_rate\"]=dfraw[\"PCTPELL\"]"
   ]
  },
  {
   "cell_type": "code",
   "execution_count": 147,
   "metadata": {},
   "outputs": [
    {
     "data": {
      "text/html": [
       "<div>\n",
       "<style scoped>\n",
       "    .dataframe tbody tr th:only-of-type {\n",
       "        vertical-align: middle;\n",
       "    }\n",
       "\n",
       "    .dataframe tbody tr th {\n",
       "        vertical-align: top;\n",
       "    }\n",
       "\n",
       "    .dataframe thead th {\n",
       "        text-align: right;\n",
       "    }\n",
       "</style>\n",
       "<table border=\"1\" class=\"dataframe\">\n",
       "  <thead>\n",
       "    <tr style=\"text-align: right;\">\n",
       "      <th></th>\n",
       "      <th>completion</th>\n",
       "      <th>public_school_tuition</th>\n",
       "      <th>expenditures_per_student</th>\n",
       "      <th>adm_rate</th>\n",
       "      <th>pell_grant_rate</th>\n",
       "    </tr>\n",
       "  </thead>\n",
       "  <tbody>\n",
       "    <tr>\n",
       "      <th>0</th>\n",
       "      <td>0.0643</td>\n",
       "      <td>15567.0</td>\n",
       "      <td>5888.0</td>\n",
       "      <td>0.8738</td>\n",
       "      <td>0.7039</td>\n",
       "    </tr>\n",
       "    <tr>\n",
       "      <th>1</th>\n",
       "      <td>0.3018</td>\n",
       "      <td>16475.0</td>\n",
       "      <td>17055.0</td>\n",
       "      <td>0.5814</td>\n",
       "      <td>0.3525</td>\n",
       "    </tr>\n",
       "    <tr>\n",
       "      <th>2</th>\n",
       "      <td>0.1429</td>\n",
       "      <td>NaN</td>\n",
       "      <td>5417.0</td>\n",
       "      <td>NaN</td>\n",
       "      <td>0.6971</td>\n",
       "    </tr>\n",
       "    <tr>\n",
       "      <th>3</th>\n",
       "      <td>0.1533</td>\n",
       "      <td>19423.0</td>\n",
       "      <td>10558.0</td>\n",
       "      <td>0.7628</td>\n",
       "      <td>0.2949</td>\n",
       "    </tr>\n",
       "    <tr>\n",
       "      <th>4</th>\n",
       "      <td>0.0725</td>\n",
       "      <td>15037.0</td>\n",
       "      <td>7889.0</td>\n",
       "      <td>0.4590</td>\n",
       "      <td>0.7815</td>\n",
       "    </tr>\n",
       "  </tbody>\n",
       "</table>\n",
       "</div>"
      ],
      "text/plain": [
       "   completion  public_school_tuition  expenditures_per_student  adm_rate  \\\n",
       "0      0.0643                15567.0                    5888.0    0.8738   \n",
       "1      0.3018                16475.0                   17055.0    0.5814   \n",
       "2      0.1429                    NaN                    5417.0       NaN   \n",
       "3      0.1533                19423.0                   10558.0    0.7628   \n",
       "4      0.0725                15037.0                    7889.0    0.4590   \n",
       "\n",
       "   pell_grant_rate  \n",
       "0           0.7039  \n",
       "1           0.3525  \n",
       "2           0.6971  \n",
       "3           0.2949  \n",
       "4           0.7815  "
      ]
     },
     "execution_count": 147,
     "metadata": {},
     "output_type": "execute_result"
    }
   ],
   "source": [
    "df.head()"
   ]
  },
  {
   "cell_type": "markdown",
   "metadata": {},
   "source": [
    "### Another place to look for impact on completion rates is the share of degree seeking students who are of a particular race or ethnicity"
   ]
  },
  {
   "cell_type": "code",
   "execution_count": 148,
   "metadata": {},
   "outputs": [
    {
     "name": "stderr",
     "output_type": "stream",
     "text": [
      "C:\\Users\\isaac\\Anaconda3\\lib\\site-packages\\ipykernel_launcher.py:1: SettingWithCopyWarning: \n",
      "A value is trying to be set on a copy of a slice from a DataFrame.\n",
      "Try using .loc[row_indexer,col_indexer] = value instead\n",
      "\n",
      "See the caveats in the documentation: http://pandas.pydata.org/pandas-docs/stable/indexing.html#indexing-view-versus-copy\n",
      "  \"\"\"Entry point for launching an IPython kernel.\n",
      "C:\\Users\\isaac\\Anaconda3\\lib\\site-packages\\ipykernel_launcher.py:2: SettingWithCopyWarning: \n",
      "A value is trying to be set on a copy of a slice from a DataFrame.\n",
      "Try using .loc[row_indexer,col_indexer] = value instead\n",
      "\n",
      "See the caveats in the documentation: http://pandas.pydata.org/pandas-docs/stable/indexing.html#indexing-view-versus-copy\n",
      "  \n",
      "C:\\Users\\isaac\\Anaconda3\\lib\\site-packages\\ipykernel_launcher.py:3: SettingWithCopyWarning: \n",
      "A value is trying to be set on a copy of a slice from a DataFrame.\n",
      "Try using .loc[row_indexer,col_indexer] = value instead\n",
      "\n",
      "See the caveats in the documentation: http://pandas.pydata.org/pandas-docs/stable/indexing.html#indexing-view-versus-copy\n",
      "  This is separate from the ipykernel package so we can avoid doing imports until\n",
      "C:\\Users\\isaac\\Anaconda3\\lib\\site-packages\\ipykernel_launcher.py:4: SettingWithCopyWarning: \n",
      "A value is trying to be set on a copy of a slice from a DataFrame.\n",
      "Try using .loc[row_indexer,col_indexer] = value instead\n",
      "\n",
      "See the caveats in the documentation: http://pandas.pydata.org/pandas-docs/stable/indexing.html#indexing-view-versus-copy\n",
      "  after removing the cwd from sys.path.\n",
      "C:\\Users\\isaac\\Anaconda3\\lib\\site-packages\\ipykernel_launcher.py:5: SettingWithCopyWarning: \n",
      "A value is trying to be set on a copy of a slice from a DataFrame.\n",
      "Try using .loc[row_indexer,col_indexer] = value instead\n",
      "\n",
      "See the caveats in the documentation: http://pandas.pydata.org/pandas-docs/stable/indexing.html#indexing-view-versus-copy\n",
      "  \"\"\"\n",
      "C:\\Users\\isaac\\Anaconda3\\lib\\site-packages\\ipykernel_launcher.py:6: SettingWithCopyWarning: \n",
      "A value is trying to be set on a copy of a slice from a DataFrame.\n",
      "Try using .loc[row_indexer,col_indexer] = value instead\n",
      "\n",
      "See the caveats in the documentation: http://pandas.pydata.org/pandas-docs/stable/indexing.html#indexing-view-versus-copy\n",
      "  \n",
      "C:\\Users\\isaac\\Anaconda3\\lib\\site-packages\\ipykernel_launcher.py:7: SettingWithCopyWarning: \n",
      "A value is trying to be set on a copy of a slice from a DataFrame.\n",
      "Try using .loc[row_indexer,col_indexer] = value instead\n",
      "\n",
      "See the caveats in the documentation: http://pandas.pydata.org/pandas-docs/stable/indexing.html#indexing-view-versus-copy\n",
      "  import sys\n",
      "C:\\Users\\isaac\\Anaconda3\\lib\\site-packages\\ipykernel_launcher.py:8: SettingWithCopyWarning: \n",
      "A value is trying to be set on a copy of a slice from a DataFrame.\n",
      "Try using .loc[row_indexer,col_indexer] = value instead\n",
      "\n",
      "See the caveats in the documentation: http://pandas.pydata.org/pandas-docs/stable/indexing.html#indexing-view-versus-copy\n",
      "  \n",
      "C:\\Users\\isaac\\Anaconda3\\lib\\site-packages\\ipykernel_launcher.py:9: SettingWithCopyWarning: \n",
      "A value is trying to be set on a copy of a slice from a DataFrame.\n",
      "Try using .loc[row_indexer,col_indexer] = value instead\n",
      "\n",
      "See the caveats in the documentation: http://pandas.pydata.org/pandas-docs/stable/indexing.html#indexing-view-versus-copy\n",
      "  if __name__ == '__main__':\n"
     ]
    }
   ],
   "source": [
    "df[\"white\"] = dfraw[\"UGDS_WHITE\"]\n",
    "df[\"black\"] = dfraw[\"UGDS_BLACK\"]\n",
    "df[\"hispanic\"] = dfraw[\"UGDS_HISP\"]\n",
    "df[\"asian\"] = dfraw[\"UGDS_ASIAN\"]\n",
    "df[\"american_indian\"] = dfraw[\"UGDS_AIAN\"]\n",
    "df[\"hawaiian_pcislander\"] = dfraw[\"UGDS_NHPI\"]\n",
    "df[\"race_ethnicity_two\"] =dfraw[\"UGDS_2MOR\"]\n",
    "df[\"nonresident\"] = dfraw[\"UGDS_NRA\"]\n",
    "df[\"unknown\"] = dfraw[\"UGDS_UNKN\"]"
   ]
  },
  {
   "cell_type": "code",
   "execution_count": 149,
   "metadata": {},
   "outputs": [
    {
     "data": {
      "text/html": [
       "<div>\n",
       "<style scoped>\n",
       "    .dataframe tbody tr th:only-of-type {\n",
       "        vertical-align: middle;\n",
       "    }\n",
       "\n",
       "    .dataframe tbody tr th {\n",
       "        vertical-align: top;\n",
       "    }\n",
       "\n",
       "    .dataframe thead th {\n",
       "        text-align: right;\n",
       "    }\n",
       "</style>\n",
       "<table border=\"1\" class=\"dataframe\">\n",
       "  <thead>\n",
       "    <tr style=\"text-align: right;\">\n",
       "      <th></th>\n",
       "      <th>completion</th>\n",
       "      <th>public_school_tuition</th>\n",
       "      <th>expenditures_per_student</th>\n",
       "      <th>adm_rate</th>\n",
       "      <th>pell_grant_rate</th>\n",
       "      <th>white</th>\n",
       "      <th>black</th>\n",
       "      <th>hispanic</th>\n",
       "      <th>asian</th>\n",
       "      <th>american_indian</th>\n",
       "      <th>hawaiian_pcislander</th>\n",
       "      <th>race_ethnicity_two</th>\n",
       "      <th>nonresident</th>\n",
       "      <th>unknown</th>\n",
       "    </tr>\n",
       "  </thead>\n",
       "  <tbody>\n",
       "    <tr>\n",
       "      <th>completion</th>\n",
       "      <td>1.000000</td>\n",
       "      <td>0.515731</td>\n",
       "      <td>0.459406</td>\n",
       "      <td>-0.306999</td>\n",
       "      <td>-0.569687</td>\n",
       "      <td>0.278313</td>\n",
       "      <td>-0.291535</td>\n",
       "      <td>-0.149864</td>\n",
       "      <td>0.263919</td>\n",
       "      <td>-0.042858</td>\n",
       "      <td>-0.072222</td>\n",
       "      <td>0.171952</td>\n",
       "      <td>0.176216</td>\n",
       "      <td>-0.166568</td>\n",
       "    </tr>\n",
       "    <tr>\n",
       "      <th>public_school_tuition</th>\n",
       "      <td>0.515731</td>\n",
       "      <td>1.000000</td>\n",
       "      <td>0.292337</td>\n",
       "      <td>0.062488</td>\n",
       "      <td>-0.072446</td>\n",
       "      <td>0.202425</td>\n",
       "      <td>0.003498</td>\n",
       "      <td>-0.235117</td>\n",
       "      <td>0.042371</td>\n",
       "      <td>-0.107501</td>\n",
       "      <td>-0.077829</td>\n",
       "      <td>0.018126</td>\n",
       "      <td>0.204074</td>\n",
       "      <td>-0.013419</td>\n",
       "    </tr>\n",
       "    <tr>\n",
       "      <th>expenditures_per_student</th>\n",
       "      <td>0.459406</td>\n",
       "      <td>0.292337</td>\n",
       "      <td>1.000000</td>\n",
       "      <td>-0.253013</td>\n",
       "      <td>-0.282385</td>\n",
       "      <td>0.105862</td>\n",
       "      <td>-0.120008</td>\n",
       "      <td>-0.128894</td>\n",
       "      <td>0.116228</td>\n",
       "      <td>0.019564</td>\n",
       "      <td>-0.018091</td>\n",
       "      <td>0.087839</td>\n",
       "      <td>0.221100</td>\n",
       "      <td>-0.012070</td>\n",
       "    </tr>\n",
       "    <tr>\n",
       "      <th>adm_rate</th>\n",
       "      <td>-0.306999</td>\n",
       "      <td>0.062488</td>\n",
       "      <td>-0.253013</td>\n",
       "      <td>1.000000</td>\n",
       "      <td>0.145925</td>\n",
       "      <td>0.143278</td>\n",
       "      <td>-0.048812</td>\n",
       "      <td>-0.008082</td>\n",
       "      <td>-0.201542</td>\n",
       "      <td>0.034859</td>\n",
       "      <td>0.033931</td>\n",
       "      <td>-0.069470</td>\n",
       "      <td>-0.182576</td>\n",
       "      <td>-0.022053</td>\n",
       "    </tr>\n",
       "    <tr>\n",
       "      <th>pell_grant_rate</th>\n",
       "      <td>-0.569687</td>\n",
       "      <td>-0.072446</td>\n",
       "      <td>-0.282385</td>\n",
       "      <td>0.145925</td>\n",
       "      <td>1.000000</td>\n",
       "      <td>-0.338549</td>\n",
       "      <td>0.355269</td>\n",
       "      <td>0.230680</td>\n",
       "      <td>-0.163218</td>\n",
       "      <td>0.008184</td>\n",
       "      <td>0.061994</td>\n",
       "      <td>-0.144701</td>\n",
       "      <td>-0.278088</td>\n",
       "      <td>-0.025942</td>\n",
       "    </tr>\n",
       "    <tr>\n",
       "      <th>white</th>\n",
       "      <td>0.278313</td>\n",
       "      <td>0.202425</td>\n",
       "      <td>0.105862</td>\n",
       "      <td>0.143278</td>\n",
       "      <td>-0.338549</td>\n",
       "      <td>1.000000</td>\n",
       "      <td>-0.487208</td>\n",
       "      <td>-0.565485</td>\n",
       "      <td>-0.225557</td>\n",
       "      <td>-0.096462</td>\n",
       "      <td>-0.104106</td>\n",
       "      <td>0.007263</td>\n",
       "      <td>-0.091099</td>\n",
       "      <td>-0.173129</td>\n",
       "    </tr>\n",
       "    <tr>\n",
       "      <th>black</th>\n",
       "      <td>-0.291535</td>\n",
       "      <td>0.003498</td>\n",
       "      <td>-0.120008</td>\n",
       "      <td>-0.048812</td>\n",
       "      <td>0.355269</td>\n",
       "      <td>-0.487208</td>\n",
       "      <td>1.000000</td>\n",
       "      <td>-0.208349</td>\n",
       "      <td>-0.126757</td>\n",
       "      <td>-0.092085</td>\n",
       "      <td>-0.039819</td>\n",
       "      <td>-0.106087</td>\n",
       "      <td>-0.121283</td>\n",
       "      <td>-0.032272</td>\n",
       "    </tr>\n",
       "    <tr>\n",
       "      <th>hispanic</th>\n",
       "      <td>-0.149864</td>\n",
       "      <td>-0.235117</td>\n",
       "      <td>-0.128894</td>\n",
       "      <td>-0.008082</td>\n",
       "      <td>0.230680</td>\n",
       "      <td>-0.565485</td>\n",
       "      <td>-0.208349</td>\n",
       "      <td>1.000000</td>\n",
       "      <td>0.013849</td>\n",
       "      <td>-0.062749</td>\n",
       "      <td>-0.017736</td>\n",
       "      <td>-0.099518</td>\n",
       "      <td>-0.064033</td>\n",
       "      <td>-0.091325</td>\n",
       "    </tr>\n",
       "    <tr>\n",
       "      <th>asian</th>\n",
       "      <td>0.263919</td>\n",
       "      <td>0.042371</td>\n",
       "      <td>0.116228</td>\n",
       "      <td>-0.201542</td>\n",
       "      <td>-0.163218</td>\n",
       "      <td>-0.225557</td>\n",
       "      <td>-0.126757</td>\n",
       "      <td>0.013849</td>\n",
       "      <td>1.000000</td>\n",
       "      <td>-0.053453</td>\n",
       "      <td>0.103119</td>\n",
       "      <td>0.095215</td>\n",
       "      <td>0.159135</td>\n",
       "      <td>-0.016698</td>\n",
       "    </tr>\n",
       "    <tr>\n",
       "      <th>american_indian</th>\n",
       "      <td>-0.042858</td>\n",
       "      <td>-0.107501</td>\n",
       "      <td>0.019564</td>\n",
       "      <td>0.034859</td>\n",
       "      <td>0.008184</td>\n",
       "      <td>-0.096462</td>\n",
       "      <td>-0.092085</td>\n",
       "      <td>-0.062749</td>\n",
       "      <td>-0.053453</td>\n",
       "      <td>1.000000</td>\n",
       "      <td>-0.004183</td>\n",
       "      <td>0.007327</td>\n",
       "      <td>-0.040509</td>\n",
       "      <td>-0.023594</td>\n",
       "    </tr>\n",
       "    <tr>\n",
       "      <th>hawaiian_pcislander</th>\n",
       "      <td>-0.072222</td>\n",
       "      <td>-0.077829</td>\n",
       "      <td>-0.018091</td>\n",
       "      <td>0.033931</td>\n",
       "      <td>0.061994</td>\n",
       "      <td>-0.104106</td>\n",
       "      <td>-0.039819</td>\n",
       "      <td>-0.017736</td>\n",
       "      <td>0.103119</td>\n",
       "      <td>-0.004183</td>\n",
       "      <td>1.000000</td>\n",
       "      <td>0.040411</td>\n",
       "      <td>-0.013472</td>\n",
       "      <td>-0.009029</td>\n",
       "    </tr>\n",
       "    <tr>\n",
       "      <th>race_ethnicity_two</th>\n",
       "      <td>0.171952</td>\n",
       "      <td>0.018126</td>\n",
       "      <td>0.087839</td>\n",
       "      <td>-0.069470</td>\n",
       "      <td>-0.144701</td>\n",
       "      <td>0.007263</td>\n",
       "      <td>-0.106087</td>\n",
       "      <td>-0.099518</td>\n",
       "      <td>0.095215</td>\n",
       "      <td>0.007327</td>\n",
       "      <td>0.040411</td>\n",
       "      <td>1.000000</td>\n",
       "      <td>0.028082</td>\n",
       "      <td>-0.014676</td>\n",
       "    </tr>\n",
       "    <tr>\n",
       "      <th>nonresident</th>\n",
       "      <td>0.176216</td>\n",
       "      <td>0.204074</td>\n",
       "      <td>0.221100</td>\n",
       "      <td>-0.182576</td>\n",
       "      <td>-0.278088</td>\n",
       "      <td>-0.091099</td>\n",
       "      <td>-0.121283</td>\n",
       "      <td>-0.064033</td>\n",
       "      <td>0.159135</td>\n",
       "      <td>-0.040509</td>\n",
       "      <td>-0.013472</td>\n",
       "      <td>0.028082</td>\n",
       "      <td>1.000000</td>\n",
       "      <td>-0.001138</td>\n",
       "    </tr>\n",
       "    <tr>\n",
       "      <th>unknown</th>\n",
       "      <td>-0.166568</td>\n",
       "      <td>-0.013419</td>\n",
       "      <td>-0.012070</td>\n",
       "      <td>-0.022053</td>\n",
       "      <td>-0.025942</td>\n",
       "      <td>-0.173129</td>\n",
       "      <td>-0.032272</td>\n",
       "      <td>-0.091325</td>\n",
       "      <td>-0.016698</td>\n",
       "      <td>-0.023594</td>\n",
       "      <td>-0.009029</td>\n",
       "      <td>-0.014676</td>\n",
       "      <td>-0.001138</td>\n",
       "      <td>1.000000</td>\n",
       "    </tr>\n",
       "  </tbody>\n",
       "</table>\n",
       "</div>"
      ],
      "text/plain": [
       "                          completion  public_school_tuition  \\\n",
       "completion                  1.000000               0.515731   \n",
       "public_school_tuition       0.515731               1.000000   \n",
       "expenditures_per_student    0.459406               0.292337   \n",
       "adm_rate                   -0.306999               0.062488   \n",
       "pell_grant_rate            -0.569687              -0.072446   \n",
       "white                       0.278313               0.202425   \n",
       "black                      -0.291535               0.003498   \n",
       "hispanic                   -0.149864              -0.235117   \n",
       "asian                       0.263919               0.042371   \n",
       "american_indian            -0.042858              -0.107501   \n",
       "hawaiian_pcislander        -0.072222              -0.077829   \n",
       "race_ethnicity_two          0.171952               0.018126   \n",
       "nonresident                 0.176216               0.204074   \n",
       "unknown                    -0.166568              -0.013419   \n",
       "\n",
       "                          expenditures_per_student  adm_rate  pell_grant_rate  \\\n",
       "completion                                0.459406 -0.306999        -0.569687   \n",
       "public_school_tuition                     0.292337  0.062488        -0.072446   \n",
       "expenditures_per_student                  1.000000 -0.253013        -0.282385   \n",
       "adm_rate                                 -0.253013  1.000000         0.145925   \n",
       "pell_grant_rate                          -0.282385  0.145925         1.000000   \n",
       "white                                     0.105862  0.143278        -0.338549   \n",
       "black                                    -0.120008 -0.048812         0.355269   \n",
       "hispanic                                 -0.128894 -0.008082         0.230680   \n",
       "asian                                     0.116228 -0.201542        -0.163218   \n",
       "american_indian                           0.019564  0.034859         0.008184   \n",
       "hawaiian_pcislander                      -0.018091  0.033931         0.061994   \n",
       "race_ethnicity_two                        0.087839 -0.069470        -0.144701   \n",
       "nonresident                               0.221100 -0.182576        -0.278088   \n",
       "unknown                                  -0.012070 -0.022053        -0.025942   \n",
       "\n",
       "                             white     black  hispanic     asian  \\\n",
       "completion                0.278313 -0.291535 -0.149864  0.263919   \n",
       "public_school_tuition     0.202425  0.003498 -0.235117  0.042371   \n",
       "expenditures_per_student  0.105862 -0.120008 -0.128894  0.116228   \n",
       "adm_rate                  0.143278 -0.048812 -0.008082 -0.201542   \n",
       "pell_grant_rate          -0.338549  0.355269  0.230680 -0.163218   \n",
       "white                     1.000000 -0.487208 -0.565485 -0.225557   \n",
       "black                    -0.487208  1.000000 -0.208349 -0.126757   \n",
       "hispanic                 -0.565485 -0.208349  1.000000  0.013849   \n",
       "asian                    -0.225557 -0.126757  0.013849  1.000000   \n",
       "american_indian          -0.096462 -0.092085 -0.062749 -0.053453   \n",
       "hawaiian_pcislander      -0.104106 -0.039819 -0.017736  0.103119   \n",
       "race_ethnicity_two        0.007263 -0.106087 -0.099518  0.095215   \n",
       "nonresident              -0.091099 -0.121283 -0.064033  0.159135   \n",
       "unknown                  -0.173129 -0.032272 -0.091325 -0.016698   \n",
       "\n",
       "                          american_indian  hawaiian_pcislander  \\\n",
       "completion                      -0.042858            -0.072222   \n",
       "public_school_tuition           -0.107501            -0.077829   \n",
       "expenditures_per_student         0.019564            -0.018091   \n",
       "adm_rate                         0.034859             0.033931   \n",
       "pell_grant_rate                  0.008184             0.061994   \n",
       "white                           -0.096462            -0.104106   \n",
       "black                           -0.092085            -0.039819   \n",
       "hispanic                        -0.062749            -0.017736   \n",
       "asian                           -0.053453             0.103119   \n",
       "american_indian                  1.000000            -0.004183   \n",
       "hawaiian_pcislander             -0.004183             1.000000   \n",
       "race_ethnicity_two               0.007327             0.040411   \n",
       "nonresident                     -0.040509            -0.013472   \n",
       "unknown                         -0.023594            -0.009029   \n",
       "\n",
       "                          race_ethnicity_two  nonresident   unknown  \n",
       "completion                          0.171952     0.176216 -0.166568  \n",
       "public_school_tuition               0.018126     0.204074 -0.013419  \n",
       "expenditures_per_student            0.087839     0.221100 -0.012070  \n",
       "adm_rate                           -0.069470    -0.182576 -0.022053  \n",
       "pell_grant_rate                    -0.144701    -0.278088 -0.025942  \n",
       "white                               0.007263    -0.091099 -0.173129  \n",
       "black                              -0.106087    -0.121283 -0.032272  \n",
       "hispanic                           -0.099518    -0.064033 -0.091325  \n",
       "asian                               0.095215     0.159135 -0.016698  \n",
       "american_indian                     0.007327    -0.040509 -0.023594  \n",
       "hawaiian_pcislander                 0.040411    -0.013472 -0.009029  \n",
       "race_ethnicity_two                  1.000000     0.028082 -0.014676  \n",
       "nonresident                         0.028082     1.000000 -0.001138  \n",
       "unknown                            -0.014676    -0.001138  1.000000  "
      ]
     },
     "execution_count": 149,
     "metadata": {},
     "output_type": "execute_result"
    }
   ],
   "source": [
    "df.corr()"
   ]
  },
  {
   "cell_type": "markdown",
   "metadata": {},
   "source": [
    "### These results are promising so far, let's remove NaN observations and run a regression"
   ]
  },
  {
   "cell_type": "code",
   "execution_count": 150,
   "metadata": {},
   "outputs": [
    {
     "name": "stderr",
     "output_type": "stream",
     "text": [
      "C:\\Users\\isaac\\Anaconda3\\lib\\site-packages\\ipykernel_launcher.py:1: SettingWithCopyWarning: \n",
      "A value is trying to be set on a copy of a slice from a DataFrame\n",
      "\n",
      "See the caveats in the documentation: http://pandas.pydata.org/pandas-docs/stable/indexing.html#indexing-view-versus-copy\n",
      "  \"\"\"Entry point for launching an IPython kernel.\n"
     ]
    },
    {
     "data": {
      "text/html": [
       "<div>\n",
       "<style scoped>\n",
       "    .dataframe tbody tr th:only-of-type {\n",
       "        vertical-align: middle;\n",
       "    }\n",
       "\n",
       "    .dataframe tbody tr th {\n",
       "        vertical-align: top;\n",
       "    }\n",
       "\n",
       "    .dataframe thead th {\n",
       "        text-align: right;\n",
       "    }\n",
       "</style>\n",
       "<table border=\"1\" class=\"dataframe\">\n",
       "  <thead>\n",
       "    <tr style=\"text-align: right;\">\n",
       "      <th></th>\n",
       "      <th>completion</th>\n",
       "      <th>public_school_tuition</th>\n",
       "      <th>expenditures_per_student</th>\n",
       "      <th>adm_rate</th>\n",
       "      <th>pell_grant_rate</th>\n",
       "      <th>white</th>\n",
       "      <th>black</th>\n",
       "      <th>hispanic</th>\n",
       "      <th>asian</th>\n",
       "      <th>american_indian</th>\n",
       "      <th>hawaiian_pcislander</th>\n",
       "      <th>race_ethnicity_two</th>\n",
       "      <th>nonresident</th>\n",
       "      <th>unknown</th>\n",
       "    </tr>\n",
       "  </thead>\n",
       "  <tbody>\n",
       "    <tr>\n",
       "      <th>0</th>\n",
       "      <td>0.0643</td>\n",
       "      <td>15567.0</td>\n",
       "      <td>5888.0</td>\n",
       "      <td>0.8738</td>\n",
       "      <td>0.7039</td>\n",
       "      <td>0.0256</td>\n",
       "      <td>0.9129</td>\n",
       "      <td>0.0076</td>\n",
       "      <td>0.0019</td>\n",
       "      <td>0.0024</td>\n",
       "      <td>0.0017</td>\n",
       "      <td>0.0401</td>\n",
       "      <td>0.0065</td>\n",
       "      <td>0.0013</td>\n",
       "    </tr>\n",
       "    <tr>\n",
       "      <th>1</th>\n",
       "      <td>0.3018</td>\n",
       "      <td>16475.0</td>\n",
       "      <td>17055.0</td>\n",
       "      <td>0.5814</td>\n",
       "      <td>0.3525</td>\n",
       "      <td>0.5786</td>\n",
       "      <td>0.2626</td>\n",
       "      <td>0.0309</td>\n",
       "      <td>0.0598</td>\n",
       "      <td>0.0028</td>\n",
       "      <td>0.0004</td>\n",
       "      <td>0.0387</td>\n",
       "      <td>0.0179</td>\n",
       "      <td>0.0083</td>\n",
       "    </tr>\n",
       "    <tr>\n",
       "      <th>3</th>\n",
       "      <td>0.1533</td>\n",
       "      <td>19423.0</td>\n",
       "      <td>10558.0</td>\n",
       "      <td>0.7628</td>\n",
       "      <td>0.2949</td>\n",
       "      <td>0.7148</td>\n",
       "      <td>0.1131</td>\n",
       "      <td>0.0411</td>\n",
       "      <td>0.0414</td>\n",
       "      <td>0.0120</td>\n",
       "      <td>0.0000</td>\n",
       "      <td>0.0181</td>\n",
       "      <td>0.0303</td>\n",
       "      <td>0.0292</td>\n",
       "    </tr>\n",
       "    <tr>\n",
       "      <th>4</th>\n",
       "      <td>0.0725</td>\n",
       "      <td>15037.0</td>\n",
       "      <td>7889.0</td>\n",
       "      <td>0.4590</td>\n",
       "      <td>0.7815</td>\n",
       "      <td>0.0138</td>\n",
       "      <td>0.9337</td>\n",
       "      <td>0.0111</td>\n",
       "      <td>0.0028</td>\n",
       "      <td>0.0013</td>\n",
       "      <td>0.0004</td>\n",
       "      <td>0.0111</td>\n",
       "      <td>0.0159</td>\n",
       "      <td>0.0100</td>\n",
       "    </tr>\n",
       "    <tr>\n",
       "      <th>5</th>\n",
       "      <td>0.4385</td>\n",
       "      <td>21676.0</td>\n",
       "      <td>10478.0</td>\n",
       "      <td>0.5259</td>\n",
       "      <td>0.1938</td>\n",
       "      <td>0.7841</td>\n",
       "      <td>0.1037</td>\n",
       "      <td>0.0437</td>\n",
       "      <td>0.0118</td>\n",
       "      <td>0.0036</td>\n",
       "      <td>0.0009</td>\n",
       "      <td>0.0297</td>\n",
       "      <td>0.0192</td>\n",
       "      <td>0.0033</td>\n",
       "    </tr>\n",
       "  </tbody>\n",
       "</table>\n",
       "</div>"
      ],
      "text/plain": [
       "   completion  public_school_tuition  expenditures_per_student  adm_rate  \\\n",
       "0      0.0643                15567.0                    5888.0    0.8738   \n",
       "1      0.3018                16475.0                   17055.0    0.5814   \n",
       "3      0.1533                19423.0                   10558.0    0.7628   \n",
       "4      0.0725                15037.0                    7889.0    0.4590   \n",
       "5      0.4385                21676.0                   10478.0    0.5259   \n",
       "\n",
       "   pell_grant_rate   white   black  hispanic   asian  american_indian  \\\n",
       "0           0.7039  0.0256  0.9129    0.0076  0.0019           0.0024   \n",
       "1           0.3525  0.5786  0.2626    0.0309  0.0598           0.0028   \n",
       "3           0.2949  0.7148  0.1131    0.0411  0.0414           0.0120   \n",
       "4           0.7815  0.0138  0.9337    0.0111  0.0028           0.0013   \n",
       "5           0.1938  0.7841  0.1037    0.0437  0.0118           0.0036   \n",
       "\n",
       "   hawaiian_pcislander  race_ethnicity_two  nonresident  unknown  \n",
       "0               0.0017              0.0401       0.0065   0.0013  \n",
       "1               0.0004              0.0387       0.0179   0.0083  \n",
       "3               0.0000              0.0181       0.0303   0.0292  \n",
       "4               0.0004              0.0111       0.0159   0.0100  \n",
       "5               0.0009              0.0297       0.0192   0.0033  "
      ]
     },
     "execution_count": 150,
     "metadata": {},
     "output_type": "execute_result"
    }
   ],
   "source": [
    "df.dropna(inplace = True)\n",
    "df.head()"
   ]
  },
  {
   "cell_type": "markdown",
   "metadata": {},
   "source": [
    "### Next let's run a regression and see what the results are"
   ]
  },
  {
   "cell_type": "code",
   "execution_count": 151,
   "metadata": {},
   "outputs": [
    {
     "data": {
      "text/html": [
       "<table class=\"simpletable\">\n",
       "<caption>OLS Regression Results</caption>\n",
       "<tr>\n",
       "  <th>Dep. Variable:</th>       <td>completion</td>    <th>  R-squared:         </th> <td>   0.550</td>\n",
       "</tr>\n",
       "<tr>\n",
       "  <th>Model:</th>                   <td>OLS</td>       <th>  Adj. R-squared:    </th> <td>   0.539</td>\n",
       "</tr>\n",
       "<tr>\n",
       "  <th>Method:</th>             <td>Least Squares</td>  <th>  F-statistic:       </th> <td>   49.81</td>\n",
       "</tr>\n",
       "<tr>\n",
       "  <th>Date:</th>             <td>Tue, 23 Oct 2018</td> <th>  Prob (F-statistic):</th> <td>4.54e-83</td>\n",
       "</tr>\n",
       "<tr>\n",
       "  <th>Time:</th>                 <td>21:03:59</td>     <th>  Log-Likelihood:    </th> <td>  401.28</td>\n",
       "</tr>\n",
       "<tr>\n",
       "  <th>No. Observations:</th>      <td>   543</td>      <th>  AIC:               </th> <td>  -774.6</td>\n",
       "</tr>\n",
       "<tr>\n",
       "  <th>Df Residuals:</th>          <td>   529</td>      <th>  BIC:               </th> <td>  -714.4</td>\n",
       "</tr>\n",
       "<tr>\n",
       "  <th>Df Model:</th>              <td>    13</td>      <th>                     </th>     <td> </td>   \n",
       "</tr>\n",
       "<tr>\n",
       "  <th>Covariance Type:</th>      <td>nonrobust</td>    <th>                     </th>     <td> </td>   \n",
       "</tr>\n",
       "</table>\n",
       "<table class=\"simpletable\">\n",
       "<tr>\n",
       "              <td></td>                <th>coef</th>     <th>std err</th>      <th>t</th>      <th>P>|t|</th>  <th>[0.025</th>    <th>0.975]</th>  \n",
       "</tr>\n",
       "<tr>\n",
       "  <th>Intercept</th>                <td>    3.1136</td> <td>   56.780</td> <td>    0.055</td> <td> 0.956</td> <td> -108.427</td> <td>  114.655</td>\n",
       "</tr>\n",
       "<tr>\n",
       "  <th>public_school_tuition</th>    <td> 1.328e-05</td> <td>  1.5e-06</td> <td>    8.831</td> <td> 0.000</td> <td> 1.03e-05</td> <td> 1.62e-05</td>\n",
       "</tr>\n",
       "<tr>\n",
       "  <th>expenditures_per_student</th> <td> 1.121e-05</td> <td> 1.42e-06</td> <td>    7.901</td> <td> 0.000</td> <td> 8.42e-06</td> <td>  1.4e-05</td>\n",
       "</tr>\n",
       "<tr>\n",
       "  <th>adm_rate</th>                 <td>   -0.1404</td> <td>    0.034</td> <td>   -4.124</td> <td> 0.000</td> <td>   -0.207</td> <td>   -0.074</td>\n",
       "</tr>\n",
       "<tr>\n",
       "  <th>pell_grant_rate</th>          <td>   -0.3142</td> <td>    0.068</td> <td>   -4.599</td> <td> 0.000</td> <td>   -0.448</td> <td>   -0.180</td>\n",
       "</tr>\n",
       "<tr>\n",
       "  <th>white</th>                    <td>   -2.8889</td> <td>   56.781</td> <td>   -0.051</td> <td> 0.959</td> <td> -114.433</td> <td>  108.655</td>\n",
       "</tr>\n",
       "<tr>\n",
       "  <th>black</th>                    <td>   -3.0002</td> <td>   56.783</td> <td>   -0.053</td> <td> 0.958</td> <td> -114.548</td> <td>  108.548</td>\n",
       "</tr>\n",
       "<tr>\n",
       "  <th>hispanic</th>                 <td>   -2.8637</td> <td>   56.782</td> <td>   -0.050</td> <td> 0.960</td> <td> -114.409</td> <td>  108.682</td>\n",
       "</tr>\n",
       "<tr>\n",
       "  <th>asian</th>                    <td>   -2.6588</td> <td>   56.787</td> <td>   -0.047</td> <td> 0.963</td> <td> -114.214</td> <td>  108.897</td>\n",
       "</tr>\n",
       "<tr>\n",
       "  <th>american_indian</th>          <td>   -3.2026</td> <td>   56.777</td> <td>   -0.056</td> <td> 0.955</td> <td> -114.739</td> <td>  108.334</td>\n",
       "</tr>\n",
       "<tr>\n",
       "  <th>hawaiian_pcislander</th>      <td>   -5.9131</td> <td>   56.823</td> <td>   -0.104</td> <td> 0.917</td> <td> -117.540</td> <td>  105.714</td>\n",
       "</tr>\n",
       "<tr>\n",
       "  <th>race_ethnicity_two</th>       <td>   -3.1044</td> <td>   56.779</td> <td>   -0.055</td> <td> 0.956</td> <td> -114.645</td> <td>  108.436</td>\n",
       "</tr>\n",
       "<tr>\n",
       "  <th>nonresident</th>              <td>   -2.9100</td> <td>   56.776</td> <td>   -0.051</td> <td> 0.959</td> <td> -114.444</td> <td>  108.624</td>\n",
       "</tr>\n",
       "<tr>\n",
       "  <th>unknown</th>                  <td>   -2.9460</td> <td>   56.784</td> <td>   -0.052</td> <td> 0.959</td> <td> -114.495</td> <td>  108.603</td>\n",
       "</tr>\n",
       "</table>\n",
       "<table class=\"simpletable\">\n",
       "<tr>\n",
       "  <th>Omnibus:</th>       <td> 7.250</td> <th>  Durbin-Watson:     </th> <td>   1.616</td>\n",
       "</tr>\n",
       "<tr>\n",
       "  <th>Prob(Omnibus):</th> <td> 0.027</td> <th>  Jarque-Bera (JB):  </th> <td>   9.793</td>\n",
       "</tr>\n",
       "<tr>\n",
       "  <th>Skew:</th>          <td> 0.103</td> <th>  Prob(JB):          </th> <td> 0.00747</td>\n",
       "</tr>\n",
       "<tr>\n",
       "  <th>Kurtosis:</th>      <td> 3.625</td> <th>  Cond. No.          </th> <td>6.35e+08</td>\n",
       "</tr>\n",
       "</table><br/><br/>Warnings:<br/>[1] Standard Errors assume that the covariance matrix of the errors is correctly specified.<br/>[2] The condition number is large, 6.35e+08. This might indicate that there are<br/>strong multicollinearity or other numerical problems."
      ],
      "text/plain": [
       "<class 'statsmodels.iolib.summary.Summary'>\n",
       "\"\"\"\n",
       "                            OLS Regression Results                            \n",
       "==============================================================================\n",
       "Dep. Variable:             completion   R-squared:                       0.550\n",
       "Model:                            OLS   Adj. R-squared:                  0.539\n",
       "Method:                 Least Squares   F-statistic:                     49.81\n",
       "Date:                Tue, 23 Oct 2018   Prob (F-statistic):           4.54e-83\n",
       "Time:                        21:03:59   Log-Likelihood:                 401.28\n",
       "No. Observations:                 543   AIC:                            -774.6\n",
       "Df Residuals:                     529   BIC:                            -714.4\n",
       "Df Model:                          13                                         \n",
       "Covariance Type:            nonrobust                                         \n",
       "============================================================================================\n",
       "                               coef    std err          t      P>|t|      [0.025      0.975]\n",
       "--------------------------------------------------------------------------------------------\n",
       "Intercept                    3.1136     56.780      0.055      0.956    -108.427     114.655\n",
       "public_school_tuition     1.328e-05    1.5e-06      8.831      0.000    1.03e-05    1.62e-05\n",
       "expenditures_per_student  1.121e-05   1.42e-06      7.901      0.000    8.42e-06     1.4e-05\n",
       "adm_rate                    -0.1404      0.034     -4.124      0.000      -0.207      -0.074\n",
       "pell_grant_rate             -0.3142      0.068     -4.599      0.000      -0.448      -0.180\n",
       "white                       -2.8889     56.781     -0.051      0.959    -114.433     108.655\n",
       "black                       -3.0002     56.783     -0.053      0.958    -114.548     108.548\n",
       "hispanic                    -2.8637     56.782     -0.050      0.960    -114.409     108.682\n",
       "asian                       -2.6588     56.787     -0.047      0.963    -114.214     108.897\n",
       "american_indian             -3.2026     56.777     -0.056      0.955    -114.739     108.334\n",
       "hawaiian_pcislander         -5.9131     56.823     -0.104      0.917    -117.540     105.714\n",
       "race_ethnicity_two          -3.1044     56.779     -0.055      0.956    -114.645     108.436\n",
       "nonresident                 -2.9100     56.776     -0.051      0.959    -114.444     108.624\n",
       "unknown                     -2.9460     56.784     -0.052      0.959    -114.495     108.603\n",
       "==============================================================================\n",
       "Omnibus:                        7.250   Durbin-Watson:                   1.616\n",
       "Prob(Omnibus):                  0.027   Jarque-Bera (JB):                9.793\n",
       "Skew:                           0.103   Prob(JB):                      0.00747\n",
       "Kurtosis:                       3.625   Cond. No.                     6.35e+08\n",
       "==============================================================================\n",
       "\n",
       "Warnings:\n",
       "[1] Standard Errors assume that the covariance matrix of the errors is correctly specified.\n",
       "[2] The condition number is large, 6.35e+08. This might indicate that there are\n",
       "strong multicollinearity or other numerical problems.\n",
       "\"\"\""
      ]
     },
     "execution_count": 151,
     "metadata": {},
     "output_type": "execute_result"
    }
   ],
   "source": [
    "import statsmodels.formula.api as sm\n",
    "\n",
    "reg1 = sm.ols(formula='completion ~ public_school_tuition + expenditures_per_student + adm_rate + pell_grant_rate + white + black + hispanic + asian + american_indian + hawaiian_pcislander + race_ethnicity_two + nonresident + unknown', data=df).fit()\n",
    "reg1.summary()"
   ]
  },
  {
   "cell_type": "markdown",
   "metadata": {},
   "source": [
    "### Our race/ethnicity variables leave something to be desired, lets remove some of them and see if the significance increases"
   ]
  },
  {
   "cell_type": "code",
   "execution_count": 152,
   "metadata": {},
   "outputs": [
    {
     "data": {
      "text/html": [
       "<table class=\"simpletable\">\n",
       "<caption>OLS Regression Results</caption>\n",
       "<tr>\n",
       "  <th>Dep. Variable:</th>       <td>completion</td>    <th>  R-squared:         </th> <td>   0.540</td>\n",
       "</tr>\n",
       "<tr>\n",
       "  <th>Model:</th>                   <td>OLS</td>       <th>  Adj. R-squared:    </th> <td>   0.533</td>\n",
       "</tr>\n",
       "<tr>\n",
       "  <th>Method:</th>             <td>Least Squares</td>  <th>  F-statistic:       </th> <td>   78.44</td>\n",
       "</tr>\n",
       "<tr>\n",
       "  <th>Date:</th>             <td>Tue, 23 Oct 2018</td> <th>  Prob (F-statistic):</th> <td>3.99e-85</td>\n",
       "</tr>\n",
       "<tr>\n",
       "  <th>Time:</th>                 <td>21:03:59</td>     <th>  Log-Likelihood:    </th> <td>  395.26</td>\n",
       "</tr>\n",
       "<tr>\n",
       "  <th>No. Observations:</th>      <td>   543</td>      <th>  AIC:               </th> <td>  -772.5</td>\n",
       "</tr>\n",
       "<tr>\n",
       "  <th>Df Residuals:</th>          <td>   534</td>      <th>  BIC:               </th> <td>  -733.8</td>\n",
       "</tr>\n",
       "<tr>\n",
       "  <th>Df Model:</th>              <td>     8</td>      <th>                     </th>     <td> </td>   \n",
       "</tr>\n",
       "<tr>\n",
       "  <th>Covariance Type:</th>      <td>nonrobust</td>    <th>                     </th>     <td> </td>   \n",
       "</tr>\n",
       "</table>\n",
       "<table class=\"simpletable\">\n",
       "<tr>\n",
       "              <td></td>                <th>coef</th>     <th>std err</th>      <th>t</th>      <th>P>|t|</th>  <th>[0.025</th>    <th>0.975]</th>  \n",
       "</tr>\n",
       "<tr>\n",
       "  <th>Intercept</th>                <td>   -0.0138</td> <td>    0.082</td> <td>   -0.168</td> <td> 0.866</td> <td>   -0.175</td> <td>    0.147</td>\n",
       "</tr>\n",
       "<tr>\n",
       "  <th>public_school_tuition</th>    <td> 1.344e-05</td> <td>  1.5e-06</td> <td>    8.934</td> <td> 0.000</td> <td> 1.05e-05</td> <td> 1.64e-05</td>\n",
       "</tr>\n",
       "<tr>\n",
       "  <th>expenditures_per_student</th> <td> 1.167e-05</td> <td> 1.41e-06</td> <td>    8.260</td> <td> 0.000</td> <td> 8.89e-06</td> <td> 1.44e-05</td>\n",
       "</tr>\n",
       "<tr>\n",
       "  <th>adm_rate</th>                 <td>   -0.1529</td> <td>    0.034</td> <td>   -4.493</td> <td> 0.000</td> <td>   -0.220</td> <td>   -0.086</td>\n",
       "</tr>\n",
       "<tr>\n",
       "  <th>pell_grant_rate</th>          <td>   -0.3355</td> <td>    0.068</td> <td>   -4.950</td> <td> 0.000</td> <td>   -0.469</td> <td>   -0.202</td>\n",
       "</tr>\n",
       "<tr>\n",
       "  <th>white</th>                    <td>    0.2569</td> <td>    0.079</td> <td>    3.265</td> <td> 0.001</td> <td>    0.102</td> <td>    0.411</td>\n",
       "</tr>\n",
       "<tr>\n",
       "  <th>black</th>                    <td>    0.1534</td> <td>    0.084</td> <td>    1.823</td> <td> 0.069</td> <td>   -0.012</td> <td>    0.319</td>\n",
       "</tr>\n",
       "<tr>\n",
       "  <th>hispanic</th>                 <td>    0.2881</td> <td>    0.082</td> <td>    3.532</td> <td> 0.000</td> <td>    0.128</td> <td>    0.448</td>\n",
       "</tr>\n",
       "<tr>\n",
       "  <th>asian</th>                    <td>    0.4472</td> <td>    0.131</td> <td>    3.409</td> <td> 0.001</td> <td>    0.189</td> <td>    0.705</td>\n",
       "</tr>\n",
       "</table>\n",
       "<table class=\"simpletable\">\n",
       "<tr>\n",
       "  <th>Omnibus:</th>       <td> 6.186</td> <th>  Durbin-Watson:     </th> <td>   1.607</td>\n",
       "</tr>\n",
       "<tr>\n",
       "  <th>Prob(Omnibus):</th> <td> 0.045</td> <th>  Jarque-Bera (JB):  </th> <td>   8.013</td>\n",
       "</tr>\n",
       "<tr>\n",
       "  <th>Skew:</th>          <td> 0.090</td> <th>  Prob(JB):          </th> <td>  0.0182</td>\n",
       "</tr>\n",
       "<tr>\n",
       "  <th>Kurtosis:</th>      <td> 3.567</td> <th>  Cond. No.          </th> <td>6.61e+05</td>\n",
       "</tr>\n",
       "</table><br/><br/>Warnings:<br/>[1] Standard Errors assume that the covariance matrix of the errors is correctly specified.<br/>[2] The condition number is large, 6.61e+05. This might indicate that there are<br/>strong multicollinearity or other numerical problems."
      ],
      "text/plain": [
       "<class 'statsmodels.iolib.summary.Summary'>\n",
       "\"\"\"\n",
       "                            OLS Regression Results                            \n",
       "==============================================================================\n",
       "Dep. Variable:             completion   R-squared:                       0.540\n",
       "Model:                            OLS   Adj. R-squared:                  0.533\n",
       "Method:                 Least Squares   F-statistic:                     78.44\n",
       "Date:                Tue, 23 Oct 2018   Prob (F-statistic):           3.99e-85\n",
       "Time:                        21:03:59   Log-Likelihood:                 395.26\n",
       "No. Observations:                 543   AIC:                            -772.5\n",
       "Df Residuals:                     534   BIC:                            -733.8\n",
       "Df Model:                           8                                         \n",
       "Covariance Type:            nonrobust                                         \n",
       "============================================================================================\n",
       "                               coef    std err          t      P>|t|      [0.025      0.975]\n",
       "--------------------------------------------------------------------------------------------\n",
       "Intercept                   -0.0138      0.082     -0.168      0.866      -0.175       0.147\n",
       "public_school_tuition     1.344e-05    1.5e-06      8.934      0.000    1.05e-05    1.64e-05\n",
       "expenditures_per_student  1.167e-05   1.41e-06      8.260      0.000    8.89e-06    1.44e-05\n",
       "adm_rate                    -0.1529      0.034     -4.493      0.000      -0.220      -0.086\n",
       "pell_grant_rate             -0.3355      0.068     -4.950      0.000      -0.469      -0.202\n",
       "white                        0.2569      0.079      3.265      0.001       0.102       0.411\n",
       "black                        0.1534      0.084      1.823      0.069      -0.012       0.319\n",
       "hispanic                     0.2881      0.082      3.532      0.000       0.128       0.448\n",
       "asian                        0.4472      0.131      3.409      0.001       0.189       0.705\n",
       "==============================================================================\n",
       "Omnibus:                        6.186   Durbin-Watson:                   1.607\n",
       "Prob(Omnibus):                  0.045   Jarque-Bera (JB):                8.013\n",
       "Skew:                           0.090   Prob(JB):                       0.0182\n",
       "Kurtosis:                       3.567   Cond. No.                     6.61e+05\n",
       "==============================================================================\n",
       "\n",
       "Warnings:\n",
       "[1] Standard Errors assume that the covariance matrix of the errors is correctly specified.\n",
       "[2] The condition number is large, 6.61e+05. This might indicate that there are\n",
       "strong multicollinearity or other numerical problems.\n",
       "\"\"\""
      ]
     },
     "execution_count": 152,
     "metadata": {},
     "output_type": "execute_result"
    }
   ],
   "source": [
    "reg2 = sm.ols(formula='completion ~ public_school_tuition + expenditures_per_student + adm_rate + pell_grant_rate + white + black + hispanic + asian', data=df).fit()\n",
    "reg2.summary()"
   ]
  },
  {
   "cell_type": "markdown",
   "metadata": {},
   "source": [
    "### Narrowing down the specification in the race/ethnicity category seems to have improved the predictive capabilities of our model. Race/ethnicity factors are now signficant except for the black variable"
   ]
  },
  {
   "cell_type": "markdown",
   "metadata": {},
   "source": [
    "### From the beginning we had a problem with our money-based variables. The coefficients are very small. So lets consider them in an either thousands of dollars specifcation or a log specification"
   ]
  },
  {
   "cell_type": "code",
   "execution_count": 153,
   "metadata": {},
   "outputs": [
    {
     "name": "stderr",
     "output_type": "stream",
     "text": [
      "C:\\Users\\isaac\\Anaconda3\\lib\\site-packages\\ipykernel_launcher.py:1: SettingWithCopyWarning: \n",
      "A value is trying to be set on a copy of a slice from a DataFrame.\n",
      "Try using .loc[row_indexer,col_indexer] = value instead\n",
      "\n",
      "See the caveats in the documentation: http://pandas.pydata.org/pandas-docs/stable/indexing.html#indexing-view-versus-copy\n",
      "  \"\"\"Entry point for launching an IPython kernel.\n",
      "C:\\Users\\isaac\\Anaconda3\\lib\\site-packages\\ipykernel_launcher.py:2: SettingWithCopyWarning: \n",
      "A value is trying to be set on a copy of a slice from a DataFrame.\n",
      "Try using .loc[row_indexer,col_indexer] = value instead\n",
      "\n",
      "See the caveats in the documentation: http://pandas.pydata.org/pandas-docs/stable/indexing.html#indexing-view-versus-copy\n",
      "  \n",
      "C:\\Users\\isaac\\Anaconda3\\lib\\site-packages\\ipykernel_launcher.py:3: SettingWithCopyWarning: \n",
      "A value is trying to be set on a copy of a slice from a DataFrame.\n",
      "Try using .loc[row_indexer,col_indexer] = value instead\n",
      "\n",
      "See the caveats in the documentation: http://pandas.pydata.org/pandas-docs/stable/indexing.html#indexing-view-versus-copy\n",
      "  This is separate from the ipykernel package so we can avoid doing imports until\n",
      "C:\\Users\\isaac\\Anaconda3\\lib\\site-packages\\ipykernel_launcher.py:4: SettingWithCopyWarning: \n",
      "A value is trying to be set on a copy of a slice from a DataFrame.\n",
      "Try using .loc[row_indexer,col_indexer] = value instead\n",
      "\n",
      "See the caveats in the documentation: http://pandas.pydata.org/pandas-docs/stable/indexing.html#indexing-view-versus-copy\n",
      "  after removing the cwd from sys.path.\n"
     ]
    }
   ],
   "source": [
    "df[\"log_public_school_tuition\"] = np.log(df['public_school_tuition'])\n",
    "df[\"public_school_tuition_thousands\"] = df[\"public_school_tuition\"]/1000\n",
    "df[\"log_expenditures_per_student\"] = np.log(df['expenditures_per_student'])\n",
    "df[\"expenditures_per_student_thousands\"] = df[\"expenditures_per_student\"]/1000"
   ]
  },
  {
   "cell_type": "code",
   "execution_count": 154,
   "metadata": {},
   "outputs": [
    {
     "data": {
      "text/html": [
       "<div>\n",
       "<style scoped>\n",
       "    .dataframe tbody tr th:only-of-type {\n",
       "        vertical-align: middle;\n",
       "    }\n",
       "\n",
       "    .dataframe tbody tr th {\n",
       "        vertical-align: top;\n",
       "    }\n",
       "\n",
       "    .dataframe thead th {\n",
       "        text-align: right;\n",
       "    }\n",
       "</style>\n",
       "<table border=\"1\" class=\"dataframe\">\n",
       "  <thead>\n",
       "    <tr style=\"text-align: right;\">\n",
       "      <th></th>\n",
       "      <th>completion</th>\n",
       "      <th>public_school_tuition</th>\n",
       "      <th>expenditures_per_student</th>\n",
       "      <th>adm_rate</th>\n",
       "      <th>pell_grant_rate</th>\n",
       "      <th>white</th>\n",
       "      <th>black</th>\n",
       "      <th>hispanic</th>\n",
       "      <th>asian</th>\n",
       "      <th>american_indian</th>\n",
       "      <th>hawaiian_pcislander</th>\n",
       "      <th>race_ethnicity_two</th>\n",
       "      <th>nonresident</th>\n",
       "      <th>unknown</th>\n",
       "      <th>log_public_school_tuition</th>\n",
       "      <th>public_school_tuition_thousands</th>\n",
       "      <th>log_expenditures_per_student</th>\n",
       "      <th>expenditures_per_student_thousands</th>\n",
       "    </tr>\n",
       "  </thead>\n",
       "  <tbody>\n",
       "    <tr>\n",
       "      <th>0</th>\n",
       "      <td>0.0643</td>\n",
       "      <td>15567.0</td>\n",
       "      <td>5888.0</td>\n",
       "      <td>0.8738</td>\n",
       "      <td>0.7039</td>\n",
       "      <td>0.0256</td>\n",
       "      <td>0.9129</td>\n",
       "      <td>0.0076</td>\n",
       "      <td>0.0019</td>\n",
       "      <td>0.0024</td>\n",
       "      <td>0.0017</td>\n",
       "      <td>0.0401</td>\n",
       "      <td>0.0065</td>\n",
       "      <td>0.0013</td>\n",
       "      <td>9.652909</td>\n",
       "      <td>15.567</td>\n",
       "      <td>8.680672</td>\n",
       "      <td>5.888</td>\n",
       "    </tr>\n",
       "    <tr>\n",
       "      <th>1</th>\n",
       "      <td>0.3018</td>\n",
       "      <td>16475.0</td>\n",
       "      <td>17055.0</td>\n",
       "      <td>0.5814</td>\n",
       "      <td>0.3525</td>\n",
       "      <td>0.5786</td>\n",
       "      <td>0.2626</td>\n",
       "      <td>0.0309</td>\n",
       "      <td>0.0598</td>\n",
       "      <td>0.0028</td>\n",
       "      <td>0.0004</td>\n",
       "      <td>0.0387</td>\n",
       "      <td>0.0179</td>\n",
       "      <td>0.0083</td>\n",
       "      <td>9.709599</td>\n",
       "      <td>16.475</td>\n",
       "      <td>9.744199</td>\n",
       "      <td>17.055</td>\n",
       "    </tr>\n",
       "    <tr>\n",
       "      <th>3</th>\n",
       "      <td>0.1533</td>\n",
       "      <td>19423.0</td>\n",
       "      <td>10558.0</td>\n",
       "      <td>0.7628</td>\n",
       "      <td>0.2949</td>\n",
       "      <td>0.7148</td>\n",
       "      <td>0.1131</td>\n",
       "      <td>0.0411</td>\n",
       "      <td>0.0414</td>\n",
       "      <td>0.0120</td>\n",
       "      <td>0.0000</td>\n",
       "      <td>0.0181</td>\n",
       "      <td>0.0303</td>\n",
       "      <td>0.0292</td>\n",
       "      <td>9.874213</td>\n",
       "      <td>19.423</td>\n",
       "      <td>9.264639</td>\n",
       "      <td>10.558</td>\n",
       "    </tr>\n",
       "    <tr>\n",
       "      <th>4</th>\n",
       "      <td>0.0725</td>\n",
       "      <td>15037.0</td>\n",
       "      <td>7889.0</td>\n",
       "      <td>0.4590</td>\n",
       "      <td>0.7815</td>\n",
       "      <td>0.0138</td>\n",
       "      <td>0.9337</td>\n",
       "      <td>0.0111</td>\n",
       "      <td>0.0028</td>\n",
       "      <td>0.0013</td>\n",
       "      <td>0.0004</td>\n",
       "      <td>0.0111</td>\n",
       "      <td>0.0159</td>\n",
       "      <td>0.0100</td>\n",
       "      <td>9.618269</td>\n",
       "      <td>15.037</td>\n",
       "      <td>8.973225</td>\n",
       "      <td>7.889</td>\n",
       "    </tr>\n",
       "    <tr>\n",
       "      <th>5</th>\n",
       "      <td>0.4385</td>\n",
       "      <td>21676.0</td>\n",
       "      <td>10478.0</td>\n",
       "      <td>0.5259</td>\n",
       "      <td>0.1938</td>\n",
       "      <td>0.7841</td>\n",
       "      <td>0.1037</td>\n",
       "      <td>0.0437</td>\n",
       "      <td>0.0118</td>\n",
       "      <td>0.0036</td>\n",
       "      <td>0.0009</td>\n",
       "      <td>0.0297</td>\n",
       "      <td>0.0192</td>\n",
       "      <td>0.0033</td>\n",
       "      <td>9.983961</td>\n",
       "      <td>21.676</td>\n",
       "      <td>9.257033</td>\n",
       "      <td>10.478</td>\n",
       "    </tr>\n",
       "  </tbody>\n",
       "</table>\n",
       "</div>"
      ],
      "text/plain": [
       "   completion  public_school_tuition  expenditures_per_student  adm_rate  \\\n",
       "0      0.0643                15567.0                    5888.0    0.8738   \n",
       "1      0.3018                16475.0                   17055.0    0.5814   \n",
       "3      0.1533                19423.0                   10558.0    0.7628   \n",
       "4      0.0725                15037.0                    7889.0    0.4590   \n",
       "5      0.4385                21676.0                   10478.0    0.5259   \n",
       "\n",
       "   pell_grant_rate   white   black  hispanic   asian  american_indian  \\\n",
       "0           0.7039  0.0256  0.9129    0.0076  0.0019           0.0024   \n",
       "1           0.3525  0.5786  0.2626    0.0309  0.0598           0.0028   \n",
       "3           0.2949  0.7148  0.1131    0.0411  0.0414           0.0120   \n",
       "4           0.7815  0.0138  0.9337    0.0111  0.0028           0.0013   \n",
       "5           0.1938  0.7841  0.1037    0.0437  0.0118           0.0036   \n",
       "\n",
       "   hawaiian_pcislander  race_ethnicity_two  nonresident  unknown  \\\n",
       "0               0.0017              0.0401       0.0065   0.0013   \n",
       "1               0.0004              0.0387       0.0179   0.0083   \n",
       "3               0.0000              0.0181       0.0303   0.0292   \n",
       "4               0.0004              0.0111       0.0159   0.0100   \n",
       "5               0.0009              0.0297       0.0192   0.0033   \n",
       "\n",
       "   log_public_school_tuition  public_school_tuition_thousands  \\\n",
       "0                   9.652909                           15.567   \n",
       "1                   9.709599                           16.475   \n",
       "3                   9.874213                           19.423   \n",
       "4                   9.618269                           15.037   \n",
       "5                   9.983961                           21.676   \n",
       "\n",
       "   log_expenditures_per_student  expenditures_per_student_thousands  \n",
       "0                      8.680672                               5.888  \n",
       "1                      9.744199                              17.055  \n",
       "3                      9.264639                              10.558  \n",
       "4                      8.973225                               7.889  \n",
       "5                      9.257033                              10.478  "
      ]
     },
     "execution_count": 154,
     "metadata": {},
     "output_type": "execute_result"
    }
   ],
   "source": [
    "df.head()"
   ]
  },
  {
   "cell_type": "markdown",
   "metadata": {},
   "source": [
    "### Let's run the model with log specifications. The interpretation is that for each percent increase in costs/tuition, the completion rate should be effected by some percentage of 100."
   ]
  },
  {
   "cell_type": "code",
   "execution_count": 155,
   "metadata": {},
   "outputs": [
    {
     "data": {
      "text/html": [
       "<table class=\"simpletable\">\n",
       "<caption>OLS Regression Results</caption>\n",
       "<tr>\n",
       "  <th>Dep. Variable:</th>       <td>completion</td>    <th>  R-squared:         </th> <td>   0.505</td>\n",
       "</tr>\n",
       "<tr>\n",
       "  <th>Model:</th>                   <td>OLS</td>       <th>  Adj. R-squared:    </th> <td>   0.498</td>\n",
       "</tr>\n",
       "<tr>\n",
       "  <th>Method:</th>             <td>Least Squares</td>  <th>  F-statistic:       </th> <td>   68.11</td>\n",
       "</tr>\n",
       "<tr>\n",
       "  <th>Date:</th>             <td>Tue, 23 Oct 2018</td> <th>  Prob (F-statistic):</th> <td>1.19e-76</td>\n",
       "</tr>\n",
       "<tr>\n",
       "  <th>Time:</th>                 <td>21:03:59</td>     <th>  Log-Likelihood:    </th> <td>  375.21</td>\n",
       "</tr>\n",
       "<tr>\n",
       "  <th>No. Observations:</th>      <td>   543</td>      <th>  AIC:               </th> <td>  -732.4</td>\n",
       "</tr>\n",
       "<tr>\n",
       "  <th>Df Residuals:</th>          <td>   534</td>      <th>  BIC:               </th> <td>  -693.8</td>\n",
       "</tr>\n",
       "<tr>\n",
       "  <th>Df Model:</th>              <td>     8</td>      <th>                     </th>     <td> </td>   \n",
       "</tr>\n",
       "<tr>\n",
       "  <th>Covariance Type:</th>      <td>nonrobust</td>    <th>                     </th>     <td> </td>   \n",
       "</tr>\n",
       "</table>\n",
       "<table class=\"simpletable\">\n",
       "<tr>\n",
       "                <td></td>                  <th>coef</th>     <th>std err</th>      <th>t</th>      <th>P>|t|</th>  <th>[0.025</th>    <th>0.975]</th>  \n",
       "</tr>\n",
       "<tr>\n",
       "  <th>Intercept</th>                    <td>   -2.0631</td> <td>    0.234</td> <td>   -8.817</td> <td> 0.000</td> <td>   -2.523</td> <td>   -1.603</td>\n",
       "</tr>\n",
       "<tr>\n",
       "  <th>log_public_school_tuition</th>    <td>    0.1191</td> <td>    0.019</td> <td>    6.123</td> <td> 0.000</td> <td>    0.081</td> <td>    0.157</td>\n",
       "</tr>\n",
       "<tr>\n",
       "  <th>log_expenditures_per_student</th> <td>    0.1309</td> <td>    0.016</td> <td>    8.108</td> <td> 0.000</td> <td>    0.099</td> <td>    0.163</td>\n",
       "</tr>\n",
       "<tr>\n",
       "  <th>adm_rate</th>                     <td>   -0.1532</td> <td>    0.035</td> <td>   -4.364</td> <td> 0.000</td> <td>   -0.222</td> <td>   -0.084</td>\n",
       "</tr>\n",
       "<tr>\n",
       "  <th>pell_grant_rate</th>              <td>   -0.3880</td> <td>    0.070</td> <td>   -5.538</td> <td> 0.000</td> <td>   -0.526</td> <td>   -0.250</td>\n",
       "</tr>\n",
       "<tr>\n",
       "  <th>white</th>                        <td>    0.3061</td> <td>    0.081</td> <td>    3.764</td> <td> 0.000</td> <td>    0.146</td> <td>    0.466</td>\n",
       "</tr>\n",
       "<tr>\n",
       "  <th>black</th>                        <td>    0.2096</td> <td>    0.087</td> <td>    2.416</td> <td> 0.016</td> <td>    0.039</td> <td>    0.380</td>\n",
       "</tr>\n",
       "<tr>\n",
       "  <th>hispanic</th>                     <td>    0.3615</td> <td>    0.085</td> <td>    4.278</td> <td> 0.000</td> <td>    0.195</td> <td>    0.528</td>\n",
       "</tr>\n",
       "<tr>\n",
       "  <th>asian</th>                        <td>    0.5256</td> <td>    0.135</td> <td>    3.880</td> <td> 0.000</td> <td>    0.260</td> <td>    0.792</td>\n",
       "</tr>\n",
       "</table>\n",
       "<table class=\"simpletable\">\n",
       "<tr>\n",
       "  <th>Omnibus:</th>       <td>18.232</td> <th>  Durbin-Watson:     </th> <td>   1.580</td>\n",
       "</tr>\n",
       "<tr>\n",
       "  <th>Prob(Omnibus):</th> <td> 0.000</td> <th>  Jarque-Bera (JB):  </th> <td>  29.367</td>\n",
       "</tr>\n",
       "<tr>\n",
       "  <th>Skew:</th>          <td> 0.250</td> <th>  Prob(JB):          </th> <td>4.20e-07</td>\n",
       "</tr>\n",
       "<tr>\n",
       "  <th>Kurtosis:</th>      <td> 4.024</td> <th>  Cond. No.          </th> <td>    613.</td>\n",
       "</tr>\n",
       "</table><br/><br/>Warnings:<br/>[1] Standard Errors assume that the covariance matrix of the errors is correctly specified."
      ],
      "text/plain": [
       "<class 'statsmodels.iolib.summary.Summary'>\n",
       "\"\"\"\n",
       "                            OLS Regression Results                            \n",
       "==============================================================================\n",
       "Dep. Variable:             completion   R-squared:                       0.505\n",
       "Model:                            OLS   Adj. R-squared:                  0.498\n",
       "Method:                 Least Squares   F-statistic:                     68.11\n",
       "Date:                Tue, 23 Oct 2018   Prob (F-statistic):           1.19e-76\n",
       "Time:                        21:03:59   Log-Likelihood:                 375.21\n",
       "No. Observations:                 543   AIC:                            -732.4\n",
       "Df Residuals:                     534   BIC:                            -693.8\n",
       "Df Model:                           8                                         \n",
       "Covariance Type:            nonrobust                                         \n",
       "================================================================================================\n",
       "                                   coef    std err          t      P>|t|      [0.025      0.975]\n",
       "------------------------------------------------------------------------------------------------\n",
       "Intercept                       -2.0631      0.234     -8.817      0.000      -2.523      -1.603\n",
       "log_public_school_tuition        0.1191      0.019      6.123      0.000       0.081       0.157\n",
       "log_expenditures_per_student     0.1309      0.016      8.108      0.000       0.099       0.163\n",
       "adm_rate                        -0.1532      0.035     -4.364      0.000      -0.222      -0.084\n",
       "pell_grant_rate                 -0.3880      0.070     -5.538      0.000      -0.526      -0.250\n",
       "white                            0.3061      0.081      3.764      0.000       0.146       0.466\n",
       "black                            0.2096      0.087      2.416      0.016       0.039       0.380\n",
       "hispanic                         0.3615      0.085      4.278      0.000       0.195       0.528\n",
       "asian                            0.5256      0.135      3.880      0.000       0.260       0.792\n",
       "==============================================================================\n",
       "Omnibus:                       18.232   Durbin-Watson:                   1.580\n",
       "Prob(Omnibus):                  0.000   Jarque-Bera (JB):               29.367\n",
       "Skew:                           0.250   Prob(JB):                     4.20e-07\n",
       "Kurtosis:                       4.024   Cond. No.                         613.\n",
       "==============================================================================\n",
       "\n",
       "Warnings:\n",
       "[1] Standard Errors assume that the covariance matrix of the errors is correctly specified.\n",
       "\"\"\""
      ]
     },
     "execution_count": 155,
     "metadata": {},
     "output_type": "execute_result"
    }
   ],
   "source": [
    "reg3 = sm.ols(formula='completion ~ log_public_school_tuition + log_expenditures_per_student + adm_rate + pell_grant_rate + white + black + hispanic + asian', data=df).fit()\n",
    "reg3.summary()"
   ]
  },
  {
   "cell_type": "markdown",
   "metadata": {},
   "source": [
    "### The log spec dropped the r^2, but had easily interperable coefficients"
   ]
  },
  {
   "cell_type": "markdown",
   "metadata": {},
   "source": [
    "### Let's try the thousands spec"
   ]
  },
  {
   "cell_type": "code",
   "execution_count": 156,
   "metadata": {},
   "outputs": [
    {
     "data": {
      "text/html": [
       "<table class=\"simpletable\">\n",
       "<caption>OLS Regression Results</caption>\n",
       "<tr>\n",
       "  <th>Dep. Variable:</th>       <td>completion</td>    <th>  R-squared:         </th> <td>   0.540</td>\n",
       "</tr>\n",
       "<tr>\n",
       "  <th>Model:</th>                   <td>OLS</td>       <th>  Adj. R-squared:    </th> <td>   0.533</td>\n",
       "</tr>\n",
       "<tr>\n",
       "  <th>Method:</th>             <td>Least Squares</td>  <th>  F-statistic:       </th> <td>   78.44</td>\n",
       "</tr>\n",
       "<tr>\n",
       "  <th>Date:</th>             <td>Tue, 23 Oct 2018</td> <th>  Prob (F-statistic):</th> <td>3.99e-85</td>\n",
       "</tr>\n",
       "<tr>\n",
       "  <th>Time:</th>                 <td>21:03:59</td>     <th>  Log-Likelihood:    </th> <td>  395.26</td>\n",
       "</tr>\n",
       "<tr>\n",
       "  <th>No. Observations:</th>      <td>   543</td>      <th>  AIC:               </th> <td>  -772.5</td>\n",
       "</tr>\n",
       "<tr>\n",
       "  <th>Df Residuals:</th>          <td>   534</td>      <th>  BIC:               </th> <td>  -733.8</td>\n",
       "</tr>\n",
       "<tr>\n",
       "  <th>Df Model:</th>              <td>     8</td>      <th>                     </th>     <td> </td>   \n",
       "</tr>\n",
       "<tr>\n",
       "  <th>Covariance Type:</th>      <td>nonrobust</td>    <th>                     </th>     <td> </td>   \n",
       "</tr>\n",
       "</table>\n",
       "<table class=\"simpletable\">\n",
       "<tr>\n",
       "                   <td></td>                     <th>coef</th>     <th>std err</th>      <th>t</th>      <th>P>|t|</th>  <th>[0.025</th>    <th>0.975]</th>  \n",
       "</tr>\n",
       "<tr>\n",
       "  <th>Intercept</th>                          <td>   -0.0138</td> <td>    0.082</td> <td>   -0.168</td> <td> 0.866</td> <td>   -0.175</td> <td>    0.147</td>\n",
       "</tr>\n",
       "<tr>\n",
       "  <th>public_school_tuition_thousands</th>    <td>    0.0134</td> <td>    0.002</td> <td>    8.934</td> <td> 0.000</td> <td>    0.010</td> <td>    0.016</td>\n",
       "</tr>\n",
       "<tr>\n",
       "  <th>expenditures_per_student_thousands</th> <td>    0.0117</td> <td>    0.001</td> <td>    8.260</td> <td> 0.000</td> <td>    0.009</td> <td>    0.014</td>\n",
       "</tr>\n",
       "<tr>\n",
       "  <th>adm_rate</th>                           <td>   -0.1529</td> <td>    0.034</td> <td>   -4.493</td> <td> 0.000</td> <td>   -0.220</td> <td>   -0.086</td>\n",
       "</tr>\n",
       "<tr>\n",
       "  <th>pell_grant_rate</th>                    <td>   -0.3355</td> <td>    0.068</td> <td>   -4.950</td> <td> 0.000</td> <td>   -0.469</td> <td>   -0.202</td>\n",
       "</tr>\n",
       "<tr>\n",
       "  <th>white</th>                              <td>    0.2569</td> <td>    0.079</td> <td>    3.265</td> <td> 0.001</td> <td>    0.102</td> <td>    0.411</td>\n",
       "</tr>\n",
       "<tr>\n",
       "  <th>black</th>                              <td>    0.1534</td> <td>    0.084</td> <td>    1.823</td> <td> 0.069</td> <td>   -0.012</td> <td>    0.319</td>\n",
       "</tr>\n",
       "<tr>\n",
       "  <th>hispanic</th>                           <td>    0.2881</td> <td>    0.082</td> <td>    3.532</td> <td> 0.000</td> <td>    0.128</td> <td>    0.448</td>\n",
       "</tr>\n",
       "<tr>\n",
       "  <th>asian</th>                              <td>    0.4472</td> <td>    0.131</td> <td>    3.409</td> <td> 0.001</td> <td>    0.189</td> <td>    0.705</td>\n",
       "</tr>\n",
       "</table>\n",
       "<table class=\"simpletable\">\n",
       "<tr>\n",
       "  <th>Omnibus:</th>       <td> 6.186</td> <th>  Durbin-Watson:     </th> <td>   1.607</td>\n",
       "</tr>\n",
       "<tr>\n",
       "  <th>Prob(Omnibus):</th> <td> 0.045</td> <th>  Jarque-Bera (JB):  </th> <td>   8.013</td>\n",
       "</tr>\n",
       "<tr>\n",
       "  <th>Skew:</th>          <td> 0.090</td> <th>  Prob(JB):          </th> <td>  0.0182</td>\n",
       "</tr>\n",
       "<tr>\n",
       "  <th>Kurtosis:</th>      <td> 3.567</td> <th>  Cond. No.          </th> <td>    663.</td>\n",
       "</tr>\n",
       "</table><br/><br/>Warnings:<br/>[1] Standard Errors assume that the covariance matrix of the errors is correctly specified."
      ],
      "text/plain": [
       "<class 'statsmodels.iolib.summary.Summary'>\n",
       "\"\"\"\n",
       "                            OLS Regression Results                            \n",
       "==============================================================================\n",
       "Dep. Variable:             completion   R-squared:                       0.540\n",
       "Model:                            OLS   Adj. R-squared:                  0.533\n",
       "Method:                 Least Squares   F-statistic:                     78.44\n",
       "Date:                Tue, 23 Oct 2018   Prob (F-statistic):           3.99e-85\n",
       "Time:                        21:03:59   Log-Likelihood:                 395.26\n",
       "No. Observations:                 543   AIC:                            -772.5\n",
       "Df Residuals:                     534   BIC:                            -733.8\n",
       "Df Model:                           8                                         \n",
       "Covariance Type:            nonrobust                                         \n",
       "======================================================================================================\n",
       "                                         coef    std err          t      P>|t|      [0.025      0.975]\n",
       "------------------------------------------------------------------------------------------------------\n",
       "Intercept                             -0.0138      0.082     -0.168      0.866      -0.175       0.147\n",
       "public_school_tuition_thousands        0.0134      0.002      8.934      0.000       0.010       0.016\n",
       "expenditures_per_student_thousands     0.0117      0.001      8.260      0.000       0.009       0.014\n",
       "adm_rate                              -0.1529      0.034     -4.493      0.000      -0.220      -0.086\n",
       "pell_grant_rate                       -0.3355      0.068     -4.950      0.000      -0.469      -0.202\n",
       "white                                  0.2569      0.079      3.265      0.001       0.102       0.411\n",
       "black                                  0.1534      0.084      1.823      0.069      -0.012       0.319\n",
       "hispanic                               0.2881      0.082      3.532      0.000       0.128       0.448\n",
       "asian                                  0.4472      0.131      3.409      0.001       0.189       0.705\n",
       "==============================================================================\n",
       "Omnibus:                        6.186   Durbin-Watson:                   1.607\n",
       "Prob(Omnibus):                  0.045   Jarque-Bera (JB):                8.013\n",
       "Skew:                           0.090   Prob(JB):                       0.0182\n",
       "Kurtosis:                       3.567   Cond. No.                         663.\n",
       "==============================================================================\n",
       "\n",
       "Warnings:\n",
       "[1] Standard Errors assume that the covariance matrix of the errors is correctly specified.\n",
       "\"\"\""
      ]
     },
     "execution_count": 156,
     "metadata": {},
     "output_type": "execute_result"
    }
   ],
   "source": [
    "import statsmodels.formula.api as sm\n",
    "\n",
    "reg4 = sm.ols(formula='completion ~ public_school_tuition_thousands + expenditures_per_student_thousands + adm_rate + pell_grant_rate + white + black + hispanic + asian', data=df).fit()\n",
    "reg4.summary()"
   ]
  },
  {
   "cell_type": "markdown",
   "metadata": {},
   "source": [
    "### Here the r^2 remained higher. So it probably makes more sense to keep the thousands specification. Here the coefficients are much more interperable than before. For every thousand dollars more the school charges in tuition, the likelihood of degree completion increases by 1.21%. The same can be said of the impact of an extra thousand dollars in expenditures."
   ]
  },
  {
   "cell_type": "markdown",
   "metadata": {},
   "source": [
    "### Next lets see whether the r^2 improves without an intercept"
   ]
  },
  {
   "cell_type": "code",
   "execution_count": 157,
   "metadata": {},
   "outputs": [
    {
     "data": {
      "text/html": [
       "<table class=\"simpletable\">\n",
       "<caption>OLS Regression Results</caption>\n",
       "<tr>\n",
       "  <th>Dep. Variable:</th>       <td>completion</td>    <th>  R-squared:         </th> <td>   0.877</td> \n",
       "</tr>\n",
       "<tr>\n",
       "  <th>Model:</th>                   <td>OLS</td>       <th>  Adj. R-squared:    </th> <td>   0.875</td> \n",
       "</tr>\n",
       "<tr>\n",
       "  <th>Method:</th>             <td>Least Squares</td>  <th>  F-statistic:       </th> <td>   476.7</td> \n",
       "</tr>\n",
       "<tr>\n",
       "  <th>Date:</th>             <td>Tue, 23 Oct 2018</td> <th>  Prob (F-statistic):</th> <td>8.18e-238</td>\n",
       "</tr>\n",
       "<tr>\n",
       "  <th>Time:</th>                 <td>21:03:59</td>     <th>  Log-Likelihood:    </th> <td>  395.24</td> \n",
       "</tr>\n",
       "<tr>\n",
       "  <th>No. Observations:</th>      <td>   543</td>      <th>  AIC:               </th> <td>  -774.5</td> \n",
       "</tr>\n",
       "<tr>\n",
       "  <th>Df Residuals:</th>          <td>   535</td>      <th>  BIC:               </th> <td>  -740.1</td> \n",
       "</tr>\n",
       "<tr>\n",
       "  <th>Df Model:</th>              <td>     8</td>      <th>                     </th>     <td> </td>    \n",
       "</tr>\n",
       "<tr>\n",
       "  <th>Covariance Type:</th>      <td>nonrobust</td>    <th>                     </th>     <td> </td>    \n",
       "</tr>\n",
       "</table>\n",
       "<table class=\"simpletable\">\n",
       "<tr>\n",
       "                   <td></td>                     <th>coef</th>     <th>std err</th>      <th>t</th>      <th>P>|t|</th>  <th>[0.025</th>    <th>0.975]</th>  \n",
       "</tr>\n",
       "<tr>\n",
       "  <th>public_school_tuition_thousands</th>    <td>    0.0134</td> <td>    0.001</td> <td>    9.024</td> <td> 0.000</td> <td>    0.010</td> <td>    0.016</td>\n",
       "</tr>\n",
       "<tr>\n",
       "  <th>expenditures_per_student_thousands</th> <td>    0.0116</td> <td>    0.001</td> <td>    8.647</td> <td> 0.000</td> <td>    0.009</td> <td>    0.014</td>\n",
       "</tr>\n",
       "<tr>\n",
       "  <th>adm_rate</th>                           <td>   -0.1548</td> <td>    0.032</td> <td>   -4.838</td> <td> 0.000</td> <td>   -0.218</td> <td>   -0.092</td>\n",
       "</tr>\n",
       "<tr>\n",
       "  <th>pell_grant_rate</th>                    <td>   -0.3386</td> <td>    0.065</td> <td>   -5.198</td> <td> 0.000</td> <td>   -0.467</td> <td>   -0.211</td>\n",
       "</tr>\n",
       "<tr>\n",
       "  <th>white</th>                              <td>    0.2456</td> <td>    0.042</td> <td>    5.895</td> <td> 0.000</td> <td>    0.164</td> <td>    0.327</td>\n",
       "</tr>\n",
       "<tr>\n",
       "  <th>black</th>                              <td>    0.1434</td> <td>    0.059</td> <td>    2.413</td> <td> 0.016</td> <td>    0.027</td> <td>    0.260</td>\n",
       "</tr>\n",
       "<tr>\n",
       "  <th>hispanic</th>                           <td>    0.2778</td> <td>    0.054</td> <td>    5.172</td> <td> 0.000</td> <td>    0.172</td> <td>    0.383</td>\n",
       "</tr>\n",
       "<tr>\n",
       "  <th>asian</th>                              <td>    0.4324</td> <td>    0.097</td> <td>    4.449</td> <td> 0.000</td> <td>    0.241</td> <td>    0.623</td>\n",
       "</tr>\n",
       "</table>\n",
       "<table class=\"simpletable\">\n",
       "<tr>\n",
       "  <th>Omnibus:</th>       <td> 6.131</td> <th>  Durbin-Watson:     </th> <td>   1.605</td>\n",
       "</tr>\n",
       "<tr>\n",
       "  <th>Prob(Omnibus):</th> <td> 0.047</td> <th>  Jarque-Bera (JB):  </th> <td>   7.940</td>\n",
       "</tr>\n",
       "<tr>\n",
       "  <th>Skew:</th>          <td> 0.089</td> <th>  Prob(JB):          </th> <td>  0.0189</td>\n",
       "</tr>\n",
       "<tr>\n",
       "  <th>Kurtosis:</th>      <td> 3.565</td> <th>  Cond. No.          </th> <td>    411.</td>\n",
       "</tr>\n",
       "</table><br/><br/>Warnings:<br/>[1] Standard Errors assume that the covariance matrix of the errors is correctly specified."
      ],
      "text/plain": [
       "<class 'statsmodels.iolib.summary.Summary'>\n",
       "\"\"\"\n",
       "                            OLS Regression Results                            \n",
       "==============================================================================\n",
       "Dep. Variable:             completion   R-squared:                       0.877\n",
       "Model:                            OLS   Adj. R-squared:                  0.875\n",
       "Method:                 Least Squares   F-statistic:                     476.7\n",
       "Date:                Tue, 23 Oct 2018   Prob (F-statistic):          8.18e-238\n",
       "Time:                        21:03:59   Log-Likelihood:                 395.24\n",
       "No. Observations:                 543   AIC:                            -774.5\n",
       "Df Residuals:                     535   BIC:                            -740.1\n",
       "Df Model:                           8                                         \n",
       "Covariance Type:            nonrobust                                         \n",
       "======================================================================================================\n",
       "                                         coef    std err          t      P>|t|      [0.025      0.975]\n",
       "------------------------------------------------------------------------------------------------------\n",
       "public_school_tuition_thousands        0.0134      0.001      9.024      0.000       0.010       0.016\n",
       "expenditures_per_student_thousands     0.0116      0.001      8.647      0.000       0.009       0.014\n",
       "adm_rate                              -0.1548      0.032     -4.838      0.000      -0.218      -0.092\n",
       "pell_grant_rate                       -0.3386      0.065     -5.198      0.000      -0.467      -0.211\n",
       "white                                  0.2456      0.042      5.895      0.000       0.164       0.327\n",
       "black                                  0.1434      0.059      2.413      0.016       0.027       0.260\n",
       "hispanic                               0.2778      0.054      5.172      0.000       0.172       0.383\n",
       "asian                                  0.4324      0.097      4.449      0.000       0.241       0.623\n",
       "==============================================================================\n",
       "Omnibus:                        6.131   Durbin-Watson:                   1.605\n",
       "Prob(Omnibus):                  0.047   Jarque-Bera (JB):                7.940\n",
       "Skew:                           0.089   Prob(JB):                       0.0189\n",
       "Kurtosis:                       3.565   Cond. No.                         411.\n",
       "==============================================================================\n",
       "\n",
       "Warnings:\n",
       "[1] Standard Errors assume that the covariance matrix of the errors is correctly specified.\n",
       "\"\"\""
      ]
     },
     "execution_count": 157,
     "metadata": {},
     "output_type": "execute_result"
    }
   ],
   "source": [
    "reg5 = sm.ols(formula='completion ~ public_school_tuition_thousands + expenditures_per_student_thousands + adm_rate + pell_grant_rate + white + black + hispanic + asian - 1', data=df).fit()\n",
    "reg5.summary()"
   ]
  },
  {
   "cell_type": "markdown",
   "metadata": {},
   "source": [
    "### So far our model has eight independent variables. The r^2 is high and this is a predictive model we can leave it for now. Our next step can be testing the model specification with a split test. To do this we first need to employ a regression method that is amenable to a split test. Let's load some libraries"
   ]
  },
  {
   "cell_type": "code",
   "execution_count": 158,
   "metadata": {},
   "outputs": [],
   "source": [
    "%matplotlib inline\n",
    "\n",
    "import scipy.stats as stats\n",
    "import matplotlib.pyplot as plt\n",
    "import sklearn"
   ]
  },
  {
   "cell_type": "code",
   "execution_count": 159,
   "metadata": {},
   "outputs": [
    {
     "data": {
      "text/plain": [
       "LinearRegression(copy_X=True, fit_intercept=False, n_jobs=1, normalize=False)"
      ]
     },
     "execution_count": 159,
     "metadata": {},
     "output_type": "execute_result"
    }
   ],
   "source": [
    "from sklearn.linear_model import LinearRegression\n",
    "X = df.drop(['completion', \"public_school_tuition\", \"expenditures_per_student\", \"log_public_school_tuition\", \"log_expenditures_per_student\", \"american_indian\", \"hawaiian_pcislander\" ,\"race_ethnicity_two\", \"nonresident\", \"unknown\"], axis = 1)\n",
    "\n",
    "lm = LinearRegression(fit_intercept=False)\n",
    "lm"
   ]
  },
  {
   "cell_type": "code",
   "execution_count": 160,
   "metadata": {},
   "outputs": [
    {
     "data": {
      "text/plain": [
       "LinearRegression(copy_X=True, fit_intercept=False, n_jobs=1, normalize=False)"
      ]
     },
     "execution_count": 160,
     "metadata": {},
     "output_type": "execute_result"
    }
   ],
   "source": [
    "lm.fit(X, df.completion)"
   ]
  },
  {
   "cell_type": "markdown",
   "metadata": {},
   "source": [
    "### Let's check some coefficients to be sure they match with our previous model"
   ]
  },
  {
   "cell_type": "code",
   "execution_count": 161,
   "metadata": {},
   "outputs": [
    {
     "data": {
      "text/plain": [
       "public_school_tuition_thousands       0.013397\n",
       "expenditures_per_student_thousands    0.011595\n",
       "adm_rate                             -0.154828\n",
       "pell_grant_rate                      -0.338602\n",
       "white                                 0.245630\n",
       "black                                 0.143413\n",
       "hispanic                              0.277766\n",
       "asian                                 0.432387\n",
       "dtype: float64"
      ]
     },
     "execution_count": 161,
     "metadata": {},
     "output_type": "execute_result"
    }
   ],
   "source": [
    "reg5.params"
   ]
  },
  {
   "cell_type": "code",
   "execution_count": 162,
   "metadata": {},
   "outputs": [
    {
     "data": {
      "text/html": [
       "<div>\n",
       "<style scoped>\n",
       "    .dataframe tbody tr th:only-of-type {\n",
       "        vertical-align: middle;\n",
       "    }\n",
       "\n",
       "    .dataframe tbody tr th {\n",
       "        vertical-align: top;\n",
       "    }\n",
       "\n",
       "    .dataframe thead th {\n",
       "        text-align: right;\n",
       "    }\n",
       "</style>\n",
       "<table border=\"1\" class=\"dataframe\">\n",
       "  <thead>\n",
       "    <tr style=\"text-align: right;\">\n",
       "      <th></th>\n",
       "      <th>features</th>\n",
       "      <th>estimated coefficients</th>\n",
       "    </tr>\n",
       "  </thead>\n",
       "  <tbody>\n",
       "    <tr>\n",
       "      <th>0</th>\n",
       "      <td>adm_rate</td>\n",
       "      <td>-0.154828</td>\n",
       "    </tr>\n",
       "    <tr>\n",
       "      <th>1</th>\n",
       "      <td>pell_grant_rate</td>\n",
       "      <td>-0.338602</td>\n",
       "    </tr>\n",
       "    <tr>\n",
       "      <th>2</th>\n",
       "      <td>white</td>\n",
       "      <td>0.245630</td>\n",
       "    </tr>\n",
       "    <tr>\n",
       "      <th>3</th>\n",
       "      <td>black</td>\n",
       "      <td>0.143413</td>\n",
       "    </tr>\n",
       "    <tr>\n",
       "      <th>4</th>\n",
       "      <td>hispanic</td>\n",
       "      <td>0.277766</td>\n",
       "    </tr>\n",
       "    <tr>\n",
       "      <th>5</th>\n",
       "      <td>asian</td>\n",
       "      <td>0.432387</td>\n",
       "    </tr>\n",
       "    <tr>\n",
       "      <th>6</th>\n",
       "      <td>public_school_tuition_thousands</td>\n",
       "      <td>0.013397</td>\n",
       "    </tr>\n",
       "    <tr>\n",
       "      <th>7</th>\n",
       "      <td>expenditures_per_student_thousands</td>\n",
       "      <td>0.011595</td>\n",
       "    </tr>\n",
       "  </tbody>\n",
       "</table>\n",
       "</div>"
      ],
      "text/plain": [
       "                             features  estimated coefficients\n",
       "0                            adm_rate               -0.154828\n",
       "1                     pell_grant_rate               -0.338602\n",
       "2                               white                0.245630\n",
       "3                               black                0.143413\n",
       "4                            hispanic                0.277766\n",
       "5                               asian                0.432387\n",
       "6     public_school_tuition_thousands                0.013397\n",
       "7  expenditures_per_student_thousands                0.011595"
      ]
     },
     "execution_count": 162,
     "metadata": {},
     "output_type": "execute_result"
    }
   ],
   "source": [
    "pd.DataFrame(list(zip(X.columns, lm.coef_)), columns = [\"features\", 'estimated coefficients'])"
   ]
  },
  {
   "cell_type": "markdown",
   "metadata": {},
   "source": [
    "### Great our models match, that's a good start, let's split test"
   ]
  },
  {
   "cell_type": "code",
   "execution_count": 163,
   "metadata": {},
   "outputs": [
    {
     "name": "stdout",
     "output_type": "stream",
     "text": [
      "(363, 8)\n",
      "(180, 8)\n",
      "(363,)\n",
      "(180,)\n"
     ]
    }
   ],
   "source": [
    "X_train, X_test, Y_train, Y_test = sklearn.model_selection.train_test_split(\n",
    "    X, df.completion, test_size=.33, random_state = 5)\n",
    "print(X_train.shape)\n",
    "print(X_test.shape)\n",
    "print(Y_train.shape)\n",
    "print(Y_test.shape)"
   ]
  },
  {
   "cell_type": "code",
   "execution_count": 164,
   "metadata": {},
   "outputs": [],
   "source": [
    "lm=LinearRegression()\n",
    "lm.fit(X_train, Y_train)\n",
    "pred_train = lm.predict(X_train)\n",
    "pred_test = lm.predict(X_test)"
   ]
  },
  {
   "cell_type": "code",
   "execution_count": 165,
   "metadata": {},
   "outputs": [
    {
     "name": "stdout",
     "output_type": "stream",
     "text": [
      "Fit a model X_train, and calculate MSE with Y_train: 0.013330520311307116\n",
      "Fit a model X_train, and calculate MSE with X_test, Y_test: 0.014466214287957996\n"
     ]
    }
   ],
   "source": [
    "print('Fit a model X_train, and calculate MSE with Y_train:', np.mean((Y_train - lm.predict(X_train)) ** 2))\n",
    "print('Fit a model X_train, and calculate MSE with X_test, Y_test:', np.mean((Y_test - lm.predict(X_test)) ** 2))"
   ]
  },
  {
   "cell_type": "markdown",
   "metadata": {},
   "source": [
    "### The mean of the squared errors is very small which I take to be a positive."
   ]
  },
  {
   "cell_type": "markdown",
   "metadata": {},
   "source": [
    "# Initial Results"
   ]
  },
  {
   "cell_type": "markdown",
   "metadata": {},
   "source": [
    "### Our initial model contained the following coefficients which suggest the following predicted relationships in a limited sense."
   ]
  },
  {
   "cell_type": "code",
   "execution_count": 166,
   "metadata": {},
   "outputs": [
    {
     "data": {
      "text/plain": [
       "public_school_tuition_thousands       0.013397\n",
       "expenditures_per_student_thousands    0.011595\n",
       "adm_rate                             -0.154828\n",
       "pell_grant_rate                      -0.338602\n",
       "white                                 0.245630\n",
       "black                                 0.143413\n",
       "hispanic                              0.277766\n",
       "asian                                 0.432387\n",
       "dtype: float64"
      ]
     },
     "execution_count": 166,
     "metadata": {},
     "output_type": "execute_result"
    }
   ],
   "source": [
    "reg5.params"
   ]
  },
  {
   "cell_type": "markdown",
   "metadata": {},
   "source": [
    "### These results have limited scope in application, but we can say that based on our model each of these variables have a predicted effect on completion rates. \n",
    "\n",
    "#### The tuition paid at public school as well as expenses paid for public school education predict a higher completion rate. Why is that? It could be that costlier schools select against students who are poor. If you believe that poor people are also less likely to complete a four year degree this could be one explanation. Tuition and expenditures are essentially stand-ins for finding out if schools have a lot of wealthier students on average.\n",
    "\n",
    "#### The admission rate at public schools predict lower completion rates. A novel theory proposed by AJ Henley is that the top tiers of colleges make it difficult for students who are admitted into the school to fail. This could be true. We are looking primarily at public schools however whose guidelines for graduation are typically monitored by state/regional accreditation agreements, so the degree to which this is true warrants further study. Another possibility is that, as a school loosens its standards for admissions and allows less qualified applicants to attend the school, completion rates drop because the cohort served by low admissions standards is less motivated than the cohort served by higher admissions standards. Yet another possibility is that the schools that have the highest admissions rates are in a process of expanding their campuses and the expansion results in decreased quality of education leading to lower completion rates\n",
    "\n",
    "#### Pell grant rates perhaps unsurprisingly predict lower completion rates more than any other variable. Because students who apply for pell grants have to come from a financially distressed situation it is unsurprising that their lack of resources is associated with much lower graduation rates.\n",
    "\n",
    "#### Race/Ethnicity admissions variables are all positive predictors of completion rates. So while having a large number of newly admitted students of any particular race won't predict lower graduation rates interpreting these results should be done with care. The coefficients on each race/ethnicity coefficient represent an increase in completion rate above a hypothetical school that has an admission rate of some other race that is not white, black, hispanic, or asian. In other words there is another category called \"other minority\" in our regression, and in the hypothetical school that has 100% students from a background other than the backgrounds listed above the completion rate is lower than a school that has 100% white students, 100%, black students, 100% hispanic students, or 100% asian students. And in our hypothetical other minority category completion rates were lower relative to the other race/ethinicity categories on average.\n",
    "\n",
    "#### The way to interpret the race/ethnicity coefficients is to multiply the % of admissions of a givent race/ethnicity for a school times the coefficient on the given race/ethnicity to find some amount by which the rate of completion of a four year degree increases. The best way to think about this coefficient is as an elasticity. For example 1% increase in the admissions rate of black students increases the completion rate by .01 * .14 = .0014. \n",
    "\n",
    "#### Takeaways from the race/ethnicity coefficients could be said to be that schools with higher rates of admission of asian students will likely have higher rates of completion. However it is unclear in which direction causality runs. Do completion rates go up because asian students are better students? (Race/ethnicity causes higher completion rates) Do schools with high completion rates seem more attractive to asian students? (Completion rates cause more asian students to apply) Or is something else happening altogether? (asian students are very good study mates and their positive influence causes more students to graduate) The true relationship is beyond the scope of the data provided"
   ]
  },
  {
   "cell_type": "markdown",
   "metadata": {},
   "source": [
    "# K-means analysis of race/ethnicity admissions by completion rate for public schools"
   ]
  },
  {
   "cell_type": "markdown",
   "metadata": {},
   "source": [
    "### For the preliminary analysis we will be using three sets of clusters, but we may decide to use more clusters later"
   ]
  },
  {
   "cell_type": "code",
   "execution_count": 167,
   "metadata": {},
   "outputs": [],
   "source": [
    "import matplotlib.pyplot as plt\n",
    "import numpy as np\n",
    "% matplotlib inline"
   ]
  },
  {
   "cell_type": "markdown",
   "metadata": {},
   "source": [
    "## We can start by plotting completion rates and black student admission rates"
   ]
  },
  {
   "cell_type": "code",
   "execution_count": 168,
   "metadata": {},
   "outputs": [
    {
     "data": {
      "text/plain": [
       "Text(0,0.5,'completion')"
      ]
     },
     "execution_count": 168,
     "metadata": {},
     "output_type": "execute_result"
    },
    {
     "data": {
      "image/png": "[encoded data removed]",
      "text/plain": [
       "<Figure size 432x288 with 1 Axes>"
      ]
     },
     "metadata": {},
     "output_type": "display_data"
    }
   ],
   "source": [
    "plt.scatter(df['black'],df['completion'])\n",
    "plt.xlabel('black')\n",
    "plt.ylabel('completion')"
   ]
  },
  {
   "cell_type": "markdown",
   "metadata": {},
   "source": [
    "### Just from looking at this we can get some idea of how to group this cohort, but lets see how the kmeans algorithm groups each observation"
   ]
  },
  {
   "cell_type": "code",
   "execution_count": 169,
   "metadata": {},
   "outputs": [
    {
     "data": {
      "text/plain": [
       "KMeans(algorithm='auto', copy_x=True, init='k-means++', max_iter=300,\n",
       "    n_clusters=3, n_init=10, n_jobs=1, precompute_distances='auto',\n",
       "    random_state=None, tol=0.0001, verbose=0)"
      ]
     },
     "execution_count": 169,
     "metadata": {},
     "output_type": "execute_result"
    }
   ],
   "source": [
    "from sklearn.cluster import KMeans\n",
    "blckcomp = KMeans(n_clusters = 3)\n",
    "blckcomp.fit(df)"
   ]
  },
  {
   "cell_type": "markdown",
   "metadata": {},
   "source": [
    "### Now that we have our observations labeled by group, lets plot them by group"
   ]
  },
  {
   "cell_type": "code",
   "execution_count": 170,
   "metadata": {},
   "outputs": [
    {
     "data": {
      "text/plain": [
       "Text(0,0.5,'completion')"
      ]
     },
     "execution_count": 170,
     "metadata": {},
     "output_type": "execute_result"
    },
    {
     "data": {
      "image/png": "[encoded data removed]",
      "text/plain": [
       "<Figure size 432x288 with 1 Axes>"
      ]
     },
     "metadata": {},
     "output_type": "display_data"
    }
   ],
   "source": [
    "plt.scatter(df[\"black\"], df['completion'], c=blckcomp.labels_ , cmap = \"rainbow\")\n",
    "#plt.scatter(blckcomp.cluster_centers_[:,0], blckcomp.cluster_centers_[:,1], c='black')\n",
    "plt.xlabel('black')\n",
    "plt.ylabel('completion')"
   ]
  },
  {
   "cell_type": "markdown",
   "metadata": {},
   "source": [
    "### Not helpful to say the least. Perhaps we need more centroids"
   ]
  },
  {
   "cell_type": "code",
   "execution_count": 171,
   "metadata": {},
   "outputs": [
    {
     "data": {
      "text/plain": [
       "Text(0,0.5,'completion')"
      ]
     },
     "execution_count": 171,
     "metadata": {},
     "output_type": "execute_result"
    },
    {
     "data": {
      "image/png": "[encoded data removed]",
      "text/plain": [
       "<Figure size 432x288 with 1 Axes>"
      ]
     },
     "metadata": {},
     "output_type": "display_data"
    }
   ],
   "source": [
    "blckcomp = KMeans(n_clusters = 20)\n",
    "blckcomp.fit(df)\n",
    "plt.scatter(df[\"black\"], df['completion'], c=blckcomp.labels_ , cmap = \"rainbow\")\n",
    "plt.xlabel('black')\n",
    "plt.ylabel('completion')"
   ]
  },
  {
   "cell_type": "code",
   "execution_count": 172,
   "metadata": {},
   "outputs": [
    {
     "data": {
      "text/plain": [
       "array([11,  2,  4, 11,  4, 11, 15,  6,  7,  4, 14, 19,  1, 10, 12, 10, 10,\n",
       "        0, 11,  1, 19,  3,  1,  1, 11, 14,  1,  4,  3,  3,  3,  7, 11, 17,\n",
       "        3,  3,  1, 14, 17,  3, 14, 12,  5, 12,  9, 10,  5,  0, 19,  2,  7,\n",
       "       11,  7, 11, 19,  7,  5, 19, 13, 18,  4,  6,  6,  1,  4,  1, 19,  0,\n",
       "        5,  0,  0,  4,  4,  2, 11,  7,  1, 11, 19, 10,  7, 14,  1, 16,  1,\n",
       "        6,  1,  1,  7,  1, 10,  1,  6,  6, 11,  7,  1,  1, 11, 11, 10, 12,\n",
       "       14, 11,  7, 14, 10,  0,  5,  2,  4, 15,  2,  7,  2,  0,  0,  0, 16,\n",
       "       10,  1,  1, 16, 16, 10, 16,  1, 16, 14, 16,  7, 10, 19, 11,  1,  2,\n",
       "        0, 11,  6, 14,  3,  0,  2,  1, 14,  3, 14,  6, 16,  7, 16, 16,  1,\n",
       "       16,  1, 16,  1,  1,  1,  1,  1,  0, 11, 19,  4, 14, 19,  0, 11, 14,\n",
       "        6,  4,  2, 19, 19,  6,  2,  6,  6, 19,  6,  4,  2, 10, 13, 19,  0,\n",
       "        6,  0,  6,  6, 19,  7,  7, 19, 14,  5,  2, 19,  7,  7,  1,  7, 11,\n",
       "       10,  0, 11, 11, 11,  2, 11,  6, 14, 11, 11, 11,  6, 11,  1,  7, 10,\n",
       "       14,  7, 19,  7, 11, 16,  0,  0, 10, 14,  7, 14,  1, 19,  7,  6,  7,\n",
       "        7, 19,  7,  0, 14, 10, 13,  4,  0, 15, 13,  7,  4, 15,  4,  4, 12,\n",
       "        2, 12,  4, 13,  0, 16, 14,  7, 10, 14,  8,  8, 14, 12,  8,  8,  8,\n",
       "       10,  8,  8,  8, 19,  7, 19, 19, 14,  0,  0,  0,  2, 12,  2, 12,  0,\n",
       "        7,  4,  0,  4,  0,  0,  0, 10,  4, 14,  0,  4,  8,  7,  0,  8,  3,\n",
       "       14,  7,  5, 19,  7, 14, 12, 10, 19,  1, 14, 11, 14,  7, 14,  2, 19,\n",
       "       10, 19,  6, 11, 13, 19,  6, 13,  2, 15, 11,  0, 19, 16,  7,  7,  3,\n",
       "        3, 16,  7,  0,  3, 16,  1, 11, 19,  4,  2, 19,  3, 19,  4,  4,  4,\n",
       "        6, 19,  4,  4,  4,  4,  4, 15, 15, 11, 11, 11,  1,  1, 15,  6, 15,\n",
       "       15, 11, 11, 11,  6, 18, 19, 15,  1,  6, 11,  6,  6,  6, 18, 15,  6,\n",
       "       13, 15, 14,  6,  4,  4,  0, 14,  1, 11, 11,  4, 19, 15, 11, 19, 11,\n",
       "       19, 11,  4, 15, 19,  1,  0,  7,  7, 11,  4, 14, 11,  1, 11, 14, 16,\n",
       "       16, 14, 11,  1, 16, 14, 11, 17, 14, 11,  1, 11, 11, 11,  1,  2, 11,\n",
       "        2,  7,  3,  7,  3,  1,  4,  6, 16,  1, 11,  7, 10, 19, 19, 19,  4,\n",
       "        2,  2, 15,  4,  4, 15, 15,  0, 19, 19, 14,  4, 13,  2,  4, 19,  7,\n",
       "       11,  7,  0,  5, 19, 16, 16, 16,  1, 14,  1, 16, 11, 16, 14, 11, 19,\n",
       "       11, 11, 19,  1, 19,  7,  2,  4, 11, 11, 11, 10, 17,  8, 17, 17,  3,\n",
       "       17, 16,  3,  3, 16,  3, 16,  8,  7, 12, 10, 14,  1, 16,  3, 14,  1,\n",
       "       11, 16, 10, 16,  1, 19,  7,  1,  1,  6, 15, 12, 16,  1, 16,  6])"
      ]
     },
     "execution_count": 172,
     "metadata": {},
     "output_type": "execute_result"
    }
   ],
   "source": [
    "blckcomp.labels_"
   ]
  },
  {
   "cell_type": "markdown",
   "metadata": {},
   "source": [
    "### Perhaps its time to try a different race/ethnicity?"
   ]
  },
  {
   "cell_type": "code",
   "execution_count": 173,
   "metadata": {
    "scrolled": false
   },
   "outputs": [
    {
     "data": {
      "text/plain": [
       "Text(0,0.5,'completion')"
      ]
     },
     "execution_count": 173,
     "metadata": {},
     "output_type": "execute_result"
    },
    {
     "data": {
      "image/png": "[encoded data removed]",
      "text/plain": [
       "<Figure size 432x288 with 1 Axes>"
      ]
     },
     "metadata": {},
     "output_type": "display_data"
    }
   ],
   "source": [
    "hispcomp = KMeans(n_clusters = 20)\n",
    "hispcomp.fit(df)\n",
    "plt.scatter(df[\"hispanic\"], df['completion'], c=blckcomp.labels_ , cmap = \"rainbow\")\n",
    "plt.xlabel('hispanic')\n",
    "plt.ylabel('completion')"
   ]
  },
  {
   "cell_type": "markdown",
   "metadata": {},
   "source": [
    "### Not a lot of luck here. My interpretation is that because the differences between observations are perhaps being rounded when the kmeans algorithm is grouping them the results are turning into garbage"
   ]
  },
  {
   "cell_type": "markdown",
   "metadata": {},
   "source": [
    "## Joy's K-Means Clustering \n",
    "completion (dependent) \n",
    "\n",
    "Independent Variables - \n",
    "\n",
    "public_school_tuition_thousands\n",
    "expenditures_per_student_thousands\n",
    "adm_rate\n",
    "pell_grant_rate"
   ]
  },
  {
   "cell_type": "markdown",
   "metadata": {},
   "source": [
    "## To simplfy the dataframe, I'm going to create a new dataframe with just the variables I need for the K Means and bring in the necessary library "
   ]
  },
  {
   "cell_type": "code",
   "execution_count": 196,
   "metadata": {},
   "outputs": [
    {
     "data": {
      "text/html": [
       "<div>\n",
       "<style scoped>\n",
       "    .dataframe tbody tr th:only-of-type {\n",
       "        vertical-align: middle;\n",
       "    }\n",
       "\n",
       "    .dataframe tbody tr th {\n",
       "        vertical-align: top;\n",
       "    }\n",
       "\n",
       "    .dataframe thead th {\n",
       "        text-align: right;\n",
       "    }\n",
       "</style>\n",
       "<table border=\"1\" class=\"dataframe\">\n",
       "  <thead>\n",
       "    <tr style=\"text-align: right;\">\n",
       "      <th></th>\n",
       "      <th>completion</th>\n",
       "      <th>public_school_tuition_thousands</th>\n",
       "      <th>expenditures_per_student_thousands</th>\n",
       "      <th>adm_rate</th>\n",
       "      <th>pell_grant_rate</th>\n",
       "    </tr>\n",
       "  </thead>\n",
       "  <tbody>\n",
       "    <tr>\n",
       "      <th>0</th>\n",
       "      <td>0.0643</td>\n",
       "      <td>15.567</td>\n",
       "      <td>5.888</td>\n",
       "      <td>0.8738</td>\n",
       "      <td>0.7039</td>\n",
       "    </tr>\n",
       "    <tr>\n",
       "      <th>1</th>\n",
       "      <td>0.3018</td>\n",
       "      <td>16.475</td>\n",
       "      <td>17.055</td>\n",
       "      <td>0.5814</td>\n",
       "      <td>0.3525</td>\n",
       "    </tr>\n",
       "    <tr>\n",
       "      <th>3</th>\n",
       "      <td>0.1533</td>\n",
       "      <td>19.423</td>\n",
       "      <td>10.558</td>\n",
       "      <td>0.7628</td>\n",
       "      <td>0.2949</td>\n",
       "    </tr>\n",
       "    <tr>\n",
       "      <th>4</th>\n",
       "      <td>0.0725</td>\n",
       "      <td>15.037</td>\n",
       "      <td>7.889</td>\n",
       "      <td>0.4590</td>\n",
       "      <td>0.7815</td>\n",
       "    </tr>\n",
       "    <tr>\n",
       "      <th>5</th>\n",
       "      <td>0.4385</td>\n",
       "      <td>21.676</td>\n",
       "      <td>10.478</td>\n",
       "      <td>0.5259</td>\n",
       "      <td>0.1938</td>\n",
       "    </tr>\n",
       "  </tbody>\n",
       "</table>\n",
       "</div>"
      ],
      "text/plain": [
       "   completion  public_school_tuition_thousands  \\\n",
       "0      0.0643                           15.567   \n",
       "1      0.3018                           16.475   \n",
       "3      0.1533                           19.423   \n",
       "4      0.0725                           15.037   \n",
       "5      0.4385                           21.676   \n",
       "\n",
       "   expenditures_per_student_thousands  adm_rate  pell_grant_rate  \n",
       "0                               5.888    0.8738           0.7039  \n",
       "1                              17.055    0.5814           0.3525  \n",
       "3                              10.558    0.7628           0.2949  \n",
       "4                               7.889    0.4590           0.7815  \n",
       "5                              10.478    0.5259           0.1938  "
      ]
     },
     "execution_count": 196,
     "metadata": {},
     "output_type": "execute_result"
    }
   ],
   "source": [
    "km = df[['completion','public_school_tuition_thousands','expenditures_per_student_thousands','adm_rate','pell_grant_rate']]\n",
    "km.head()"
   ]
  },
  {
   "cell_type": "code",
   "execution_count": 197,
   "metadata": {},
   "outputs": [],
   "source": [
    "from sklearn.cluster import KMeans"
   ]
  },
  {
   "cell_type": "markdown",
   "metadata": {},
   "source": [
    "## For the first iteration of clustering, I am selecting 4 clusters - this is an arbitrary number to begin with... "
   ]
  },
  {
   "cell_type": "code",
   "execution_count": 198,
   "metadata": {
    "scrolled": true
   },
   "outputs": [
    {
     "data": {
      "text/plain": [
       "KMeans(algorithm='auto', copy_x=True, init='k-means++', max_iter=300,\n",
       "    n_clusters=4, n_init=10, n_jobs=1, precompute_distances='auto',\n",
       "    random_state=1, tol=0.0001, verbose=0)"
      ]
     },
     "execution_count": 198,
     "metadata": {},
     "output_type": "execute_result"
    }
   ],
   "source": [
    "kmeans = KMeans(n_clusters = 4, random_state=1)\n",
    "kmeans.fit(km)"
   ]
  },
  {
   "cell_type": "code",
   "execution_count": 199,
   "metadata": {
    "scrolled": false
   },
   "outputs": [
    {
     "name": "stdout",
     "output_type": "stream",
     "text": [
      "[[ 0.39951778 19.20244444 10.4503037   0.70827778  0.30813852]\n",
      " [ 0.23321806 14.16970833  7.72230093  0.73624213  0.39482824]\n",
      " [ 0.18073308  8.78290977  7.96830075  0.65850226  0.45938045]\n",
      " [ 0.44874576 14.86425424 18.55532203  0.59525085  0.30260169]]\n"
     ]
    }
   ],
   "source": [
    "print(kmeans.cluster_centers_)"
   ]
  },
  {
   "cell_type": "markdown",
   "metadata": {},
   "source": [
    "## I'm creating a new column in my original dataframe (km) that includes the cluster assignments the were derived from the KMeans process. Now that we have the clusters in our dataset, we can look at the data by clusters to determine characteristics. "
   ]
  },
  {
   "cell_type": "code",
   "execution_count": 200,
   "metadata": {},
   "outputs": [
    {
     "name": "stderr",
     "output_type": "stream",
     "text": [
      "C:\\Users\\isaac\\Anaconda3\\lib\\site-packages\\ipykernel_launcher.py:1: SettingWithCopyWarning: \n",
      "A value is trying to be set on a copy of a slice from a DataFrame.\n",
      "Try using .loc[row_indexer,col_indexer] = value instead\n",
      "\n",
      "See the caveats in the documentation: http://pandas.pydata.org/pandas-docs/stable/indexing.html#indexing-view-versus-copy\n",
      "  \"\"\"Entry point for launching an IPython kernel.\n"
     ]
    },
    {
     "data": {
      "text/html": [
       "<div>\n",
       "<style scoped>\n",
       "    .dataframe tbody tr th:only-of-type {\n",
       "        vertical-align: middle;\n",
       "    }\n",
       "\n",
       "    .dataframe tbody tr th {\n",
       "        vertical-align: top;\n",
       "    }\n",
       "\n",
       "    .dataframe thead th {\n",
       "        text-align: right;\n",
       "    }\n",
       "</style>\n",
       "<table border=\"1\" class=\"dataframe\">\n",
       "  <thead>\n",
       "    <tr style=\"text-align: right;\">\n",
       "      <th></th>\n",
       "      <th>completion</th>\n",
       "      <th>public_school_tuition_thousands</th>\n",
       "      <th>expenditures_per_student_thousands</th>\n",
       "      <th>adm_rate</th>\n",
       "      <th>pell_grant_rate</th>\n",
       "      <th>clusters</th>\n",
       "    </tr>\n",
       "  </thead>\n",
       "  <tbody>\n",
       "    <tr>\n",
       "      <th>0</th>\n",
       "      <td>0.0643</td>\n",
       "      <td>15.567</td>\n",
       "      <td>5.888</td>\n",
       "      <td>0.8738</td>\n",
       "      <td>0.7039</td>\n",
       "      <td>1</td>\n",
       "    </tr>\n",
       "    <tr>\n",
       "      <th>1</th>\n",
       "      <td>0.3018</td>\n",
       "      <td>16.475</td>\n",
       "      <td>17.055</td>\n",
       "      <td>0.5814</td>\n",
       "      <td>0.3525</td>\n",
       "      <td>3</td>\n",
       "    </tr>\n",
       "    <tr>\n",
       "      <th>3</th>\n",
       "      <td>0.1533</td>\n",
       "      <td>19.423</td>\n",
       "      <td>10.558</td>\n",
       "      <td>0.7628</td>\n",
       "      <td>0.2949</td>\n",
       "      <td>0</td>\n",
       "    </tr>\n",
       "    <tr>\n",
       "      <th>4</th>\n",
       "      <td>0.0725</td>\n",
       "      <td>15.037</td>\n",
       "      <td>7.889</td>\n",
       "      <td>0.4590</td>\n",
       "      <td>0.7815</td>\n",
       "      <td>1</td>\n",
       "    </tr>\n",
       "    <tr>\n",
       "      <th>5</th>\n",
       "      <td>0.4385</td>\n",
       "      <td>21.676</td>\n",
       "      <td>10.478</td>\n",
       "      <td>0.5259</td>\n",
       "      <td>0.1938</td>\n",
       "      <td>0</td>\n",
       "    </tr>\n",
       "  </tbody>\n",
       "</table>\n",
       "</div>"
      ],
      "text/plain": [
       "   completion  public_school_tuition_thousands  \\\n",
       "0      0.0643                           15.567   \n",
       "1      0.3018                           16.475   \n",
       "3      0.1533                           19.423   \n",
       "4      0.0725                           15.037   \n",
       "5      0.4385                           21.676   \n",
       "\n",
       "   expenditures_per_student_thousands  adm_rate  pell_grant_rate  clusters  \n",
       "0                               5.888    0.8738           0.7039         1  \n",
       "1                              17.055    0.5814           0.3525         3  \n",
       "3                              10.558    0.7628           0.2949         0  \n",
       "4                               7.889    0.4590           0.7815         1  \n",
       "5                              10.478    0.5259           0.1938         0  "
      ]
     },
     "execution_count": 200,
     "metadata": {},
     "output_type": "execute_result"
    }
   ],
   "source": [
    "km['clusters'] = kmeans.labels_\n",
    "km.head()"
   ]
  },
  {
   "cell_type": "markdown",
   "metadata": {},
   "source": [
    "## I'm going to run a series of pivot tables to see how our data has been grouped. "
   ]
  },
  {
   "cell_type": "code",
   "execution_count": 202,
   "metadata": {
    "scrolled": true
   },
   "outputs": [
    {
     "name": "stdout",
     "output_type": "stream",
     "text": [
      "          completion\n",
      "clusters            \n",
      "0           0.399518\n",
      "1           0.233218\n",
      "2           0.180733\n",
      "3           0.448746\n",
      "          public_school_tuition_thousands\n",
      "clusters                                 \n",
      "0                               19.202444\n",
      "1                               14.169708\n",
      "2                                8.782910\n",
      "3                               14.864254\n",
      "          expenditures_per_student_thousands\n",
      "clusters                                    \n",
      "0                                  10.450304\n",
      "1                                   7.722301\n",
      "2                                   7.968301\n",
      "3                                  18.555322\n",
      "          adm_rate\n",
      "clusters          \n",
      "0         0.708278\n",
      "1         0.736242\n",
      "2         0.658502\n",
      "3         0.595251\n",
      "          pell_grant_rate\n",
      "clusters                 \n",
      "0                0.308139\n",
      "1                0.394828\n",
      "2                0.459380\n",
      "3                0.302602\n"
     ]
    }
   ],
   "source": [
    "print(pd.pivot_table(km, index = 'clusters', values = 'completion'))\n",
    "print(pd.pivot_table(km, index='clusters', values = 'public_school_tuition_thousands'))\n",
    "print(pd.pivot_table(km, index='clusters', values = 'expenditures_per_student_thousands'))\n",
    "print(pd.pivot_table(km, index='clusters', values = 'adm_rate'))\n",
    "print(pd.pivot_table(km, index='clusters', values = 'pell_grant_rate'))"
   ]
  },
  {
   "cell_type": "code",
   "execution_count": 203,
   "metadata": {
    "scrolled": true
   },
   "outputs": [
    {
     "data": {
      "text/plain": [
       "Text(0,0.5,'Mean')"
      ]
     },
     "execution_count": 203,
     "metadata": {},
     "output_type": "execute_result"
    },
    {
     "data": {
      "image/png": "[encoded data removed]",
      "text/plain": [
       "<Figure size 432x288 with 1 Axes>"
      ]
     },
     "metadata": {},
     "output_type": "display_data"
    }
   ],
   "source": [
    "pd.pivot_table(km, index = 'clusters', values = 'completion').plot(kind = 'bar')\n",
    "plt.ylabel(\"Mean\")"
   ]
  },
  {
   "cell_type": "markdown",
   "metadata": {},
   "source": [
    "The above graph shows the average completion rate for each of our generated clusters. Schools in cluster 1 & 3 have the highest completion rates; schools in cluster 0 have the lowest. "
   ]
  },
  {
   "cell_type": "code",
   "execution_count": 207,
   "metadata": {},
   "outputs": [
    {
     "data": {
      "text/plain": [
       "Text(0,0.5,'Mean')"
      ]
     },
     "execution_count": 207,
     "metadata": {},
     "output_type": "execute_result"
    },
    {
     "data": {
      "image/png": "[encoded data removed]",
      "text/plain": [
       "<Figure size 432x288 with 1 Axes>"
      ]
     },
     "metadata": {},
     "output_type": "display_data"
    }
   ],
   "source": [
    "pd.pivot_table(km, index = 'clusters', values = ['public_school_tuition_thousands','expenditures_per_student_thousands']).plot(kind = 'bar')\n",
    "plt.ylabel(\"Mean\")"
   ]
  },
  {
   "cell_type": "markdown",
   "metadata": {},
   "source": [
    "## The above graph shows the average expentitures and tuition by cluster. Schools in cluster 3 spend the most money per full-time student, schools in cluster 2 spend the least. Schools in cluster 1 have the highest tuition. "
   ]
  },
  {
   "cell_type": "code",
   "execution_count": 208,
   "metadata": {},
   "outputs": [
    {
     "data": {
      "text/plain": [
       "Text(0,0.5,'Mean')"
      ]
     },
     "execution_count": 208,
     "metadata": {},
     "output_type": "execute_result"
    },
    {
     "data": {
      "image/png": "[encoded data removed]",
      "text/plain": [
       "<Figure size 432x288 with 1 Axes>"
      ]
     },
     "metadata": {},
     "output_type": "display_data"
    }
   ],
   "source": [
    "pd.pivot_table(km, index = 'clusters', values = ['adm_rate','pell_grant_rate']).plot(kind = 'bar')\n",
    "plt.ylabel(\"Mean\")"
   ]
  },
  {
   "cell_type": "markdown",
   "metadata": {
    "scrolled": true
   },
   "source": [
    "The above graph shows the average admissions rate and Pell grant rate by cluster. Schools in cluster 2 have the highest admission rates; schools in cluster 3 have the lowest. Schools in cluster 0 and in cluster 1 have similar admission rates. \n",
    "\n",
    "Schools in cluster 0 have the highest rate of Pell Grant students, and schools in cluster 1 have the lowest. Schools in cluster 2 and cluster 3 have similar rates of Pell Grant students. "
   ]
  },
  {
   "cell_type": "markdown",
   "metadata": {},
   "source": [
    "## Cluster Characteristics\n",
    "**Cluster 0 Schools: Low completion rate; low expenditures per student; lowest tuition; moderate tuition rate; highest rate of Pell Grant students \n",
    "\n",
    "**Cluster 1 Schools: high completion rate; highest tuition; moderate expenditures per student; moderate admission rate; lowest rate of Pell Grant students\n",
    "\n",
    "**Cluster 2 Schools: low completion rate; lowest expenditures per student; moderate tuition; highest admissions rate; second highest rate of Pell Grant students \n",
    "\n",
    "**Cluster 3 Schools: highest completion rate; highest expenditures per student; moderate tuition; lowest admissions rate; moderate rate of Pell Grant students \n",
    "\n",
    "All clusters are fairly distinct, but it's worth trying with 5 clusters to see if we can further identify unique groups. "
   ]
  },
  {
   "cell_type": "code",
   "execution_count": 210,
   "metadata": {},
   "outputs": [
    {
     "data": {
      "text/plain": [
       "KMeans(algorithm='auto', copy_x=True, init='k-means++', max_iter=300,\n",
       "    n_clusters=5, n_init=10, n_jobs=1, precompute_distances='auto',\n",
       "    random_state=None, tol=0.0001, verbose=0)"
      ]
     },
     "execution_count": 210,
     "metadata": {},
     "output_type": "execute_result"
    }
   ],
   "source": [
    "kmeans2 = KMeans(n_clusters = 5)\n",
    "kmeans2.fit(km)"
   ]
  },
  {
   "cell_type": "code",
   "execution_count": 211,
   "metadata": {},
   "outputs": [
    {
     "name": "stdout",
     "output_type": "stream",
     "text": [
      "[[ 1.74100000e-01  8.66352000e+00  7.65788800e+00  6.57648800e-01\n",
      "   4.65937600e-01  2.00000000e+00]\n",
      " [ 4.00087692e-01  1.93333231e+01  1.03478846e+01  7.11139231e-01\n",
      "   3.06363846e-01 -1.55431223e-15]\n",
      " [ 3.98057377e-01  1.44186721e+01  1.55017541e+01  6.39127869e-01\n",
      "   3.06375410e-01  2.54098361e+00]\n",
      " [ 2.31344860e-01  1.41709065e+01  7.67158411e+00  7.37282710e-01\n",
      "   3.96800000e-01  1.00467290e+00]\n",
      " [ 5.58484615e-01  1.45938462e+01  2.64283846e+01  4.55915385e-01\n",
      "   3.19930769e-01  3.00000000e+00]]\n"
     ]
    }
   ],
   "source": [
    "print(kmeans2.cluster_centers_)"
   ]
  },
  {
   "cell_type": "code",
   "execution_count": 212,
   "metadata": {},
   "outputs": [
    {
     "name": "stderr",
     "output_type": "stream",
     "text": [
      "C:\\Users\\isaac\\Anaconda3\\lib\\site-packages\\ipykernel_launcher.py:1: SettingWithCopyWarning: \n",
      "A value is trying to be set on a copy of a slice from a DataFrame.\n",
      "Try using .loc[row_indexer,col_indexer] = value instead\n",
      "\n",
      "See the caveats in the documentation: http://pandas.pydata.org/pandas-docs/stable/indexing.html#indexing-view-versus-copy\n",
      "  \"\"\"Entry point for launching an IPython kernel.\n"
     ]
    },
    {
     "data": {
      "text/html": [
       "<div>\n",
       "<style scoped>\n",
       "    .dataframe tbody tr th:only-of-type {\n",
       "        vertical-align: middle;\n",
       "    }\n",
       "\n",
       "    .dataframe tbody tr th {\n",
       "        vertical-align: top;\n",
       "    }\n",
       "\n",
       "    .dataframe thead th {\n",
       "        text-align: right;\n",
       "    }\n",
       "</style>\n",
       "<table border=\"1\" class=\"dataframe\">\n",
       "  <thead>\n",
       "    <tr style=\"text-align: right;\">\n",
       "      <th></th>\n",
       "      <th>completion</th>\n",
       "      <th>public_school_tuition_thousands</th>\n",
       "      <th>expenditures_per_student_thousands</th>\n",
       "      <th>adm_rate</th>\n",
       "      <th>pell_grant_rate</th>\n",
       "      <th>clusters</th>\n",
       "      <th>clusters2</th>\n",
       "    </tr>\n",
       "  </thead>\n",
       "  <tbody>\n",
       "    <tr>\n",
       "      <th>0</th>\n",
       "      <td>0.0643</td>\n",
       "      <td>15.567</td>\n",
       "      <td>5.888</td>\n",
       "      <td>0.8738</td>\n",
       "      <td>0.7039</td>\n",
       "      <td>1</td>\n",
       "      <td>3</td>\n",
       "    </tr>\n",
       "    <tr>\n",
       "      <th>1</th>\n",
       "      <td>0.3018</td>\n",
       "      <td>16.475</td>\n",
       "      <td>17.055</td>\n",
       "      <td>0.5814</td>\n",
       "      <td>0.3525</td>\n",
       "      <td>3</td>\n",
       "      <td>2</td>\n",
       "    </tr>\n",
       "    <tr>\n",
       "      <th>3</th>\n",
       "      <td>0.1533</td>\n",
       "      <td>19.423</td>\n",
       "      <td>10.558</td>\n",
       "      <td>0.7628</td>\n",
       "      <td>0.2949</td>\n",
       "      <td>0</td>\n",
       "      <td>1</td>\n",
       "    </tr>\n",
       "    <tr>\n",
       "      <th>4</th>\n",
       "      <td>0.0725</td>\n",
       "      <td>15.037</td>\n",
       "      <td>7.889</td>\n",
       "      <td>0.4590</td>\n",
       "      <td>0.7815</td>\n",
       "      <td>1</td>\n",
       "      <td>3</td>\n",
       "    </tr>\n",
       "    <tr>\n",
       "      <th>5</th>\n",
       "      <td>0.4385</td>\n",
       "      <td>21.676</td>\n",
       "      <td>10.478</td>\n",
       "      <td>0.5259</td>\n",
       "      <td>0.1938</td>\n",
       "      <td>0</td>\n",
       "      <td>1</td>\n",
       "    </tr>\n",
       "  </tbody>\n",
       "</table>\n",
       "</div>"
      ],
      "text/plain": [
       "   completion  public_school_tuition_thousands  \\\n",
       "0      0.0643                           15.567   \n",
       "1      0.3018                           16.475   \n",
       "3      0.1533                           19.423   \n",
       "4      0.0725                           15.037   \n",
       "5      0.4385                           21.676   \n",
       "\n",
       "   expenditures_per_student_thousands  adm_rate  pell_grant_rate  clusters  \\\n",
       "0                               5.888    0.8738           0.7039         1   \n",
       "1                              17.055    0.5814           0.3525         3   \n",
       "3                              10.558    0.7628           0.2949         0   \n",
       "4                               7.889    0.4590           0.7815         1   \n",
       "5                              10.478    0.5259           0.1938         0   \n",
       "\n",
       "   clusters2  \n",
       "0          3  \n",
       "1          2  \n",
       "3          1  \n",
       "4          3  \n",
       "5          1  "
      ]
     },
     "execution_count": 212,
     "metadata": {},
     "output_type": "execute_result"
    }
   ],
   "source": [
    "km['clusters2'] = kmeans2.labels_\n",
    "km.head()"
   ]
  },
  {
   "cell_type": "code",
   "execution_count": 213,
   "metadata": {
    "scrolled": true
   },
   "outputs": [
    {
     "name": "stdout",
     "output_type": "stream",
     "text": [
      "           completion\n",
      "clusters2            \n",
      "0            0.174100\n",
      "1            0.400088\n",
      "2            0.398057\n",
      "3            0.231345\n",
      "4            0.558485\n",
      "           public_school_tuition_thousands\n",
      "clusters2                                 \n",
      "0                                 8.663520\n",
      "1                                19.333323\n",
      "2                                14.418672\n",
      "3                                14.170907\n",
      "4                                14.593846\n",
      "           expenditures_per_student_thousands\n",
      "clusters2                                    \n",
      "0                                    7.657888\n",
      "1                                   10.347885\n",
      "2                                   15.501754\n",
      "3                                    7.671584\n",
      "4                                   26.428385\n",
      "           adm_rate\n",
      "clusters2          \n",
      "0          0.657649\n",
      "1          0.711139\n",
      "2          0.639128\n",
      "3          0.737283\n",
      "4          0.455915\n",
      "           pell_grant_rate\n",
      "clusters2                 \n",
      "0                 0.465938\n",
      "1                 0.306364\n",
      "2                 0.306375\n",
      "3                 0.396800\n",
      "4                 0.319931\n"
     ]
    }
   ],
   "source": [
    "print(pd.pivot_table(km, index='clusters2', values = 'completion'))\n",
    "print(pd.pivot_table(km, index='clusters2', values = 'public_school_tuition_thousands'))\n",
    "print(pd.pivot_table(km, index='clusters2', values = 'expenditures_per_student_thousands'))\n",
    "print(pd.pivot_table(km, index='clusters2', values = 'adm_rate'))\n",
    "print(pd.pivot_table(km, index='clusters2', values = 'pell_grant_rate'))"
   ]
  },
  {
   "cell_type": "code",
   "execution_count": 214,
   "metadata": {},
   "outputs": [
    {
     "data": {
      "text/plain": [
       "<matplotlib.axes._subplots.AxesSubplot at 0x21bf35a2cf8>"
      ]
     },
     "execution_count": 214,
     "metadata": {},
     "output_type": "execute_result"
    },
    {
     "data": {
      "image/png": "[encoded data removed]",
      "text/plain": [
       "<Figure size 432x288 with 1 Axes>"
      ]
     },
     "metadata": {},
     "output_type": "display_data"
    }
   ],
   "source": [
    "pd.pivot_table(km, index = 'clusters2', values = ['completion','adm_rate','pell_grant_rate']).plot(kind='bar')"
   ]
  },
  {
   "cell_type": "markdown",
   "metadata": {},
   "source": [
    "## Across 3 of our target variables, schools in cluster 1 and in cluster 2 look very similar. I think we can stick with 4 clusters to show unique grouping. "
   ]
  },
  {
   "cell_type": "code",
   "execution_count": null,
   "metadata": {},
   "outputs": [],
   "source": []
  },
  {
   "cell_type": "code",
   "execution_count": null,
   "metadata": {},
   "outputs": [],
   "source": []
  }
 ],
 "metadata": {
  "kernelspec": {
   "display_name": "Python 3",
   "language": "python",
   "name": "python3"
  },
  "language_info": {
   "codemirror_mode": {
    "name": "ipython",
    "version": 3
   },
   "file_extension": ".py",
   "mimetype": "text/x-python",
   "name": "python",
   "nbconvert_exporter": "python",
   "pygments_lexer": "ipython3",
   "version": "3.6.5"
  }
 },
 "nbformat": 4,
 "nbformat_minor": 2
}
