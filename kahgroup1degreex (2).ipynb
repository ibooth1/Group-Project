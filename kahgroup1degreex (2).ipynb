{
  "cells": [
    {
      "metadata": {
        "trusted": true,
        "scrolled": true
      },
      "cell_type": "code",
      "source": "import pandas as pd\nimport numpy as np\n\n\nloc = \"MERGED2016_17_PP.csv\"\ndfraw = pd.read_csv(loc)\ndfraw.head()",
      "execution_count": 6,
      "outputs": [
        {
          "output_type": "stream",
          "text": "/home/nbuser/anaconda3_420/lib/python3.5/site-packages/IPython/core/interactiveshell.py:2728: DtypeWarning: Columns (6,9,1725,1726,1727,1728,1729,1743,1815,1816,1817,1818,1823,1824,1830,1831) have mixed types. Specify dtype option on import or set low_memory=False.\n  interactivity=interactivity, compiler=compiler, result=result)\n",
          "name": "stderr"
        },
        {
          "output_type": "execute_result",
          "execution_count": 6,
          "data": {
            "text/html": "<div>\n<table border=\"1\" class=\"dataframe\">\n  <thead>\n    <tr style=\"text-align: right;\">\n      <th></th>\n      <th>UNITID</th>\n      <th>OPEID</th>\n      <th>OPEID6</th>\n      <th>INSTNM</th>\n      <th>CITY</th>\n      <th>STABBR</th>\n      <th>ZIP</th>\n      <th>ACCREDAGENCY</th>\n      <th>INSTURL</th>\n      <th>NPCURL</th>\n      <th>...</th>\n      <th>D150_4_LOANNOPELL</th>\n      <th>C150_L4_LOANNOPELL</th>\n      <th>D150_L4_LOANNOPELL</th>\n      <th>C150_4_NOLOANNOPELL</th>\n      <th>D150_4_NOLOANNOPELL</th>\n      <th>C150_L4_NOLOANNOPELL</th>\n      <th>D150_L4_NOLOANNOPELL</th>\n      <th>GT_28K_P10</th>\n      <th>GT_28K_P8</th>\n      <th>GT_28K_P6</th>\n    </tr>\n  </thead>\n  <tbody>\n    <tr>\n      <th>0</th>\n      <td>100654</td>\n      <td>100200</td>\n      <td>1002</td>\n      <td>Alabama A &amp; M University</td>\n      <td>Normal</td>\n      <td>AL</td>\n      <td>35762</td>\n      <td>Southern Association of Colleges and Schools C...</td>\n      <td>www.aamu.edu/</td>\n      <td>www2.aamu.edu/scripts/netpricecalc/npcalc.htm</td>\n      <td>...</td>\n      <td>195.0</td>\n      <td>NaN</td>\n      <td>NaN</td>\n      <td>0.3258</td>\n      <td>89.0</td>\n      <td>NaN</td>\n      <td>NaN</td>\n      <td>NaN</td>\n      <td>NaN</td>\n      <td>NaN</td>\n    </tr>\n    <tr>\n      <th>1</th>\n      <td>100663</td>\n      <td>105200</td>\n      <td>1052</td>\n      <td>University of Alabama at Birmingham</td>\n      <td>Birmingham</td>\n      <td>AL</td>\n      <td>35294-0110</td>\n      <td>Southern Association of Colleges and Schools C...</td>\n      <td>www.uab.edu</td>\n      <td>uab.studentaidcalculator.com/survey.aspx</td>\n      <td>...</td>\n      <td>229.0</td>\n      <td>NaN</td>\n      <td>NaN</td>\n      <td>0.5603</td>\n      <td>630.0</td>\n      <td>NaN</td>\n      <td>NaN</td>\n      <td>NaN</td>\n      <td>NaN</td>\n      <td>NaN</td>\n    </tr>\n    <tr>\n      <th>2</th>\n      <td>100690</td>\n      <td>2503400</td>\n      <td>25034</td>\n      <td>Amridge University</td>\n      <td>Montgomery</td>\n      <td>AL</td>\n      <td>36117-3553</td>\n      <td>Southern Association of Colleges and Schools C...</td>\n      <td>www.amridgeuniversity.edu</td>\n      <td>www2.amridgeuniversity.edu:9091/</td>\n      <td>...</td>\n      <td>NaN</td>\n      <td>NaN</td>\n      <td>NaN</td>\n      <td>0.5000</td>\n      <td>2.0</td>\n      <td>NaN</td>\n      <td>NaN</td>\n      <td>NaN</td>\n      <td>NaN</td>\n      <td>NaN</td>\n    </tr>\n    <tr>\n      <th>3</th>\n      <td>100706</td>\n      <td>105500</td>\n      <td>1055</td>\n      <td>University of Alabama in Huntsville</td>\n      <td>Huntsville</td>\n      <td>AL</td>\n      <td>35899</td>\n      <td>Southern Association of Colleges and Schools C...</td>\n      <td>www.uah.edu</td>\n      <td>finaid.uah.edu/</td>\n      <td>...</td>\n      <td>135.0</td>\n      <td>NaN</td>\n      <td>NaN</td>\n      <td>0.5606</td>\n      <td>264.0</td>\n      <td>NaN</td>\n      <td>NaN</td>\n      <td>NaN</td>\n      <td>NaN</td>\n      <td>NaN</td>\n    </tr>\n    <tr>\n      <th>4</th>\n      <td>100724</td>\n      <td>100500</td>\n      <td>1005</td>\n      <td>Alabama State University</td>\n      <td>Montgomery</td>\n      <td>AL</td>\n      <td>36104-0271</td>\n      <td>Southern Association of Colleges and Schools C...</td>\n      <td>www.alasu.edu</td>\n      <td>www.alasu.edu/cost-aid/forms/calculator/index....</td>\n      <td>...</td>\n      <td>55.0</td>\n      <td>NaN</td>\n      <td>NaN</td>\n      <td>0.2277</td>\n      <td>101.0</td>\n      <td>NaN</td>\n      <td>NaN</td>\n      <td>NaN</td>\n      <td>NaN</td>\n      <td>NaN</td>\n    </tr>\n  </tbody>\n</table>\n<p>5 rows × 1847 columns</p>\n</div>",
            "text/plain": "   UNITID    OPEID  OPEID6                               INSTNM        CITY  \\\n0  100654   100200    1002             Alabama A & M University      Normal   \n1  100663   105200    1052  University of Alabama at Birmingham  Birmingham   \n2  100690  2503400   25034                   Amridge University  Montgomery   \n3  100706   105500    1055  University of Alabama in Huntsville  Huntsville   \n4  100724   100500    1005             Alabama State University  Montgomery   \n\n  STABBR         ZIP                                       ACCREDAGENCY  \\\n0     AL       35762  Southern Association of Colleges and Schools C...   \n1     AL  35294-0110  Southern Association of Colleges and Schools C...   \n2     AL  36117-3553  Southern Association of Colleges and Schools C...   \n3     AL       35899  Southern Association of Colleges and Schools C...   \n4     AL  36104-0271  Southern Association of Colleges and Schools C...   \n\n                     INSTURL  \\\n0              www.aamu.edu/   \n1                www.uab.edu   \n2  www.amridgeuniversity.edu   \n3                www.uah.edu   \n4              www.alasu.edu   \n\n                                              NPCURL    ...      \\\n0      www2.aamu.edu/scripts/netpricecalc/npcalc.htm    ...       \n1           uab.studentaidcalculator.com/survey.aspx    ...       \n2                   www2.amridgeuniversity.edu:9091/    ...       \n3                                    finaid.uah.edu/    ...       \n4  www.alasu.edu/cost-aid/forms/calculator/index....    ...       \n\n   D150_4_LOANNOPELL  C150_L4_LOANNOPELL  D150_L4_LOANNOPELL  \\\n0              195.0                 NaN                 NaN   \n1              229.0                 NaN                 NaN   \n2                NaN                 NaN                 NaN   \n3              135.0                 NaN                 NaN   \n4               55.0                 NaN                 NaN   \n\n   C150_4_NOLOANNOPELL  D150_4_NOLOANNOPELL  C150_L4_NOLOANNOPELL  \\\n0               0.3258                 89.0                   NaN   \n1               0.5603                630.0                   NaN   \n2               0.5000                  2.0                   NaN   \n3               0.5606                264.0                   NaN   \n4               0.2277                101.0                   NaN   \n\n   D150_L4_NOLOANNOPELL  GT_28K_P10  GT_28K_P8  GT_28K_P6  \n0                   NaN         NaN        NaN        NaN  \n1                   NaN         NaN        NaN        NaN  \n2                   NaN         NaN        NaN        NaN  \n3                   NaN         NaN        NaN        NaN  \n4                   NaN         NaN        NaN        NaN  \n\n[5 rows x 1847 columns]"
          },
          "metadata": {}
        }
      ]
    },
    {
      "metadata": {
        "trusted": true,
        "scrolled": false
      },
      "cell_type": "code",
      "source": "df = dfraw[[\"REGION\", \"PREDDEG\", \"C100_4\", \"NPT4_PUB\",\"MN_EARN_WNE_P10\"]]\ndf.columns = [\"Region\", \"Predominate_Degrees\", \"Complete\", \"Tuition\", \"Earnings\"]\n\ndf.head()\n",
      "execution_count": 7,
      "outputs": [
        {
          "output_type": "execute_result",
          "execution_count": 7,
          "data": {
            "text/html": "<div>\n<table border=\"1\" class=\"dataframe\">\n  <thead>\n    <tr style=\"text-align: right;\">\n      <th></th>\n      <th>Region</th>\n      <th>Predominate_Degrees</th>\n      <th>Complete</th>\n      <th>Tuition</th>\n      <th>Earnings</th>\n    </tr>\n  </thead>\n  <tbody>\n    <tr>\n      <th>0</th>\n      <td>5</td>\n      <td>3</td>\n      <td>0.0643</td>\n      <td>15567.0</td>\n      <td>NaN</td>\n    </tr>\n    <tr>\n      <th>1</th>\n      <td>5</td>\n      <td>3</td>\n      <td>0.3018</td>\n      <td>16475.0</td>\n      <td>NaN</td>\n    </tr>\n    <tr>\n      <th>2</th>\n      <td>5</td>\n      <td>3</td>\n      <td>0.1429</td>\n      <td>NaN</td>\n      <td>NaN</td>\n    </tr>\n    <tr>\n      <th>3</th>\n      <td>5</td>\n      <td>3</td>\n      <td>0.1533</td>\n      <td>19423.0</td>\n      <td>NaN</td>\n    </tr>\n    <tr>\n      <th>4</th>\n      <td>5</td>\n      <td>3</td>\n      <td>0.0725</td>\n      <td>15037.0</td>\n      <td>NaN</td>\n    </tr>\n  </tbody>\n</table>\n</div>",
            "text/plain": "   Region  Predominate_Degrees  Complete  Tuition  Earnings\n0       5                    3    0.0643  15567.0       NaN\n1       5                    3    0.3018  16475.0       NaN\n2       5                    3    0.1429      NaN       NaN\n3       5                    3    0.1533  19423.0       NaN\n4       5                    3    0.0725  15037.0       NaN"
          },
          "metadata": {}
        }
      ]
    },
    {
      "metadata": {
        "trusted": true,
        "scrolled": false
      },
      "cell_type": "code",
      "source": "df2 = df[df[\"Predominate_Degrees\"] != 0]\ndf2.head()",
      "execution_count": 8,
      "outputs": [
        {
          "output_type": "execute_result",
          "execution_count": 8,
          "data": {
            "text/html": "<div>\n<table border=\"1\" class=\"dataframe\">\n  <thead>\n    <tr style=\"text-align: right;\">\n      <th></th>\n      <th>Region</th>\n      <th>Predominate_Degrees</th>\n      <th>Complete</th>\n      <th>Tuition</th>\n      <th>Earnings</th>\n    </tr>\n  </thead>\n  <tbody>\n    <tr>\n      <th>0</th>\n      <td>5</td>\n      <td>3</td>\n      <td>0.0643</td>\n      <td>15567.0</td>\n      <td>NaN</td>\n    </tr>\n    <tr>\n      <th>1</th>\n      <td>5</td>\n      <td>3</td>\n      <td>0.3018</td>\n      <td>16475.0</td>\n      <td>NaN</td>\n    </tr>\n    <tr>\n      <th>2</th>\n      <td>5</td>\n      <td>3</td>\n      <td>0.1429</td>\n      <td>NaN</td>\n      <td>NaN</td>\n    </tr>\n    <tr>\n      <th>3</th>\n      <td>5</td>\n      <td>3</td>\n      <td>0.1533</td>\n      <td>19423.0</td>\n      <td>NaN</td>\n    </tr>\n    <tr>\n      <th>4</th>\n      <td>5</td>\n      <td>3</td>\n      <td>0.0725</td>\n      <td>15037.0</td>\n      <td>NaN</td>\n    </tr>\n  </tbody>\n</table>\n</div>",
            "text/plain": "   Region  Predominate_Degrees  Complete  Tuition  Earnings\n0       5                    3    0.0643  15567.0       NaN\n1       5                    3    0.3018  16475.0       NaN\n2       5                    3    0.1429      NaN       NaN\n3       5                    3    0.1533  19423.0       NaN\n4       5                    3    0.0725  15037.0       NaN"
          },
          "metadata": {}
        }
      ]
    },
    {
      "metadata": {
        "trusted": true
      },
      "cell_type": "code",
      "source": "df2['Region'].replace({0: 'U.S. Service Schools', 1 :'New England', 2: 'Mid East', 3: 'Great Lakes', 4: 'Plains', 5: 'Southeast', 6: 'Southwest', 7: 'Rocky Mountains', 8: 'Far West', 9: 'Outlying ares'},inplace=True)\ndf2['Predominate_Degrees'].replace({1 : 'certificate-degree', 2: 'associate', 3: 'bachelor-degree', 4: 'Graduate degree'},inplace=True)\ndf2.head()",
      "execution_count": 9,
      "outputs": [
        {
          "output_type": "stream",
          "text": "/home/nbuser/anaconda3_420/lib/python3.5/site-packages/pandas/core/generic.py:3554: SettingWithCopyWarning: \nA value is trying to be set on a copy of a slice from a DataFrame\n\nSee the caveats in the documentation: http://pandas.pydata.org/pandas-docs/stable/indexing.html#indexing-view-versus-copy\n  self._update_inplace(new_data)\n",
          "name": "stderr"
        },
        {
          "output_type": "execute_result",
          "execution_count": 9,
          "data": {
            "text/html": "<div>\n<table border=\"1\" class=\"dataframe\">\n  <thead>\n    <tr style=\"text-align: right;\">\n      <th></th>\n      <th>Region</th>\n      <th>Predominate_Degrees</th>\n      <th>Complete</th>\n      <th>Tuition</th>\n      <th>Earnings</th>\n    </tr>\n  </thead>\n  <tbody>\n    <tr>\n      <th>0</th>\n      <td>Southeast</td>\n      <td>bachelor-degree</td>\n      <td>0.0643</td>\n      <td>15567.0</td>\n      <td>NaN</td>\n    </tr>\n    <tr>\n      <th>1</th>\n      <td>Southeast</td>\n      <td>bachelor-degree</td>\n      <td>0.3018</td>\n      <td>16475.0</td>\n      <td>NaN</td>\n    </tr>\n    <tr>\n      <th>2</th>\n      <td>Southeast</td>\n      <td>bachelor-degree</td>\n      <td>0.1429</td>\n      <td>NaN</td>\n      <td>NaN</td>\n    </tr>\n    <tr>\n      <th>3</th>\n      <td>Southeast</td>\n      <td>bachelor-degree</td>\n      <td>0.1533</td>\n      <td>19423.0</td>\n      <td>NaN</td>\n    </tr>\n    <tr>\n      <th>4</th>\n      <td>Southeast</td>\n      <td>bachelor-degree</td>\n      <td>0.0725</td>\n      <td>15037.0</td>\n      <td>NaN</td>\n    </tr>\n  </tbody>\n</table>\n</div>",
            "text/plain": "      Region Predominate_Degrees  Complete  Tuition  Earnings\n0  Southeast     bachelor-degree    0.0643  15567.0       NaN\n1  Southeast     bachelor-degree    0.3018  16475.0       NaN\n2  Southeast     bachelor-degree    0.1429      NaN       NaN\n3  Southeast     bachelor-degree    0.1533  19423.0       NaN\n4  Southeast     bachelor-degree    0.0725  15037.0       NaN"
          },
          "metadata": {}
        }
      ]
    },
    {
      "metadata": {
        "trusted": true,
        "scrolled": false
      },
      "cell_type": "code",
      "source": "pd.pivot_table(df2, index=['Region','Predominate_Degrees'],\naggfunc='mean',\nvalues=['Region', 'Predominate_Degrees','Complete','Tuition', 'Earnings'])",
      "execution_count": 10,
      "outputs": [
        {
          "output_type": "execute_result",
          "execution_count": 10,
          "data": {
            "text/html": "<div>\n<table border=\"1\" class=\"dataframe\">\n  <thead>\n    <tr style=\"text-align: right;\">\n      <th></th>\n      <th></th>\n      <th>Complete</th>\n      <th>Earnings</th>\n      <th>Tuition</th>\n    </tr>\n    <tr>\n      <th>Region</th>\n      <th>Predominate_Degrees</th>\n      <th></th>\n      <th></th>\n      <th></th>\n    </tr>\n  </thead>\n  <tbody>\n    <tr>\n      <th rowspan=\"4\" valign=\"top\">Far West</th>\n      <th>Graduate degree</th>\n      <td>NaN</td>\n      <td>NaN</td>\n      <td>NaN</td>\n    </tr>\n    <tr>\n      <th>associate</th>\n      <td>0.332456</td>\n      <td>NaN</td>\n      <td>6755.428571</td>\n    </tr>\n    <tr>\n      <th>bachelor-degree</th>\n      <td>0.364833</td>\n      <td>NaN</td>\n      <td>12476.642857</td>\n    </tr>\n    <tr>\n      <th>certificate-degree</th>\n      <td>0.288000</td>\n      <td>NaN</td>\n      <td>7638.113208</td>\n    </tr>\n    <tr>\n      <th rowspan=\"4\" valign=\"top\">Great Lakes</th>\n      <th>Graduate degree</th>\n      <td>NaN</td>\n      <td>NaN</td>\n      <td>NaN</td>\n    </tr>\n    <tr>\n      <th>associate</th>\n      <td>0.169155</td>\n      <td>NaN</td>\n      <td>7425.130000</td>\n    </tr>\n    <tr>\n      <th>bachelor-degree</th>\n      <td>0.362901</td>\n      <td>NaN</td>\n      <td>14620.000000</td>\n    </tr>\n    <tr>\n      <th>certificate-degree</th>\n      <td>0.000000</td>\n      <td>NaN</td>\n      <td>10053.023529</td>\n    </tr>\n    <tr>\n      <th rowspan=\"4\" valign=\"top\">Mid East</th>\n      <th>Graduate degree</th>\n      <td>NaN</td>\n      <td>NaN</td>\n      <td>NaN</td>\n    </tr>\n    <tr>\n      <th>associate</th>\n      <td>0.278765</td>\n      <td>NaN</td>\n      <td>8499.030928</td>\n    </tr>\n    <tr>\n      <th>bachelor-degree</th>\n      <td>0.389311</td>\n      <td>NaN</td>\n      <td>16421.102041</td>\n    </tr>\n    <tr>\n      <th>certificate-degree</th>\n      <td>0.492675</td>\n      <td>NaN</td>\n      <td>13756.676923</td>\n    </tr>\n    <tr>\n      <th rowspan=\"4\" valign=\"top\">New England</th>\n      <th>Graduate degree</th>\n      <td>NaN</td>\n      <td>NaN</td>\n      <td>NaN</td>\n    </tr>\n    <tr>\n      <th>associate</th>\n      <td>0.238333</td>\n      <td>NaN</td>\n      <td>9588.581395</td>\n    </tr>\n    <tr>\n      <th>bachelor-degree</th>\n      <td>0.498908</td>\n      <td>NaN</td>\n      <td>16198.975000</td>\n    </tr>\n    <tr>\n      <th>certificate-degree</th>\n      <td>0.750000</td>\n      <td>NaN</td>\n      <td>13425.705882</td>\n    </tr>\n    <tr>\n      <th rowspan=\"4\" valign=\"top\">Outlying ares</th>\n      <th>Graduate degree</th>\n      <td>NaN</td>\n      <td>NaN</td>\n      <td>NaN</td>\n    </tr>\n    <tr>\n      <th>associate</th>\n      <td>0.111564</td>\n      <td>NaN</td>\n      <td>2994.454545</td>\n    </tr>\n    <tr>\n      <th>bachelor-degree</th>\n      <td>0.097698</td>\n      <td>NaN</td>\n      <td>5491.857143</td>\n    </tr>\n    <tr>\n      <th>certificate-degree</th>\n      <td>0.094250</td>\n      <td>NaN</td>\n      <td>991.000000</td>\n    </tr>\n    <tr>\n      <th rowspan=\"4\" valign=\"top\">Plains</th>\n      <th>Graduate degree</th>\n      <td>0.000000</td>\n      <td>NaN</td>\n      <td>NaN</td>\n    </tr>\n    <tr>\n      <th>associate</th>\n      <td>0.175448</td>\n      <td>NaN</td>\n      <td>9025.658824</td>\n    </tr>\n    <tr>\n      <th>bachelor-degree</th>\n      <td>0.350548</td>\n      <td>NaN</td>\n      <td>14392.811321</td>\n    </tr>\n    <tr>\n      <th>certificate-degree</th>\n      <td>0.438100</td>\n      <td>NaN</td>\n      <td>11767.872340</td>\n    </tr>\n    <tr>\n      <th rowspan=\"4\" valign=\"top\">Rocky Mountains</th>\n      <th>Graduate degree</th>\n      <td>NaN</td>\n      <td>NaN</td>\n      <td>NaN</td>\n    </tr>\n    <tr>\n      <th>associate</th>\n      <td>0.178025</td>\n      <td>NaN</td>\n      <td>8149.750000</td>\n    </tr>\n    <tr>\n      <th>bachelor-degree</th>\n      <td>0.250179</td>\n      <td>NaN</td>\n      <td>14884.285714</td>\n    </tr>\n    <tr>\n      <th>certificate-degree</th>\n      <td>1.000000</td>\n      <td>NaN</td>\n      <td>8202.300000</td>\n    </tr>\n    <tr>\n      <th rowspan=\"4\" valign=\"top\">Southeast</th>\n      <th>Graduate degree</th>\n      <td>NaN</td>\n      <td>NaN</td>\n      <td>NaN</td>\n    </tr>\n    <tr>\n      <th>associate</th>\n      <td>0.216206</td>\n      <td>NaN</td>\n      <td>6938.406250</td>\n    </tr>\n    <tr>\n      <th>bachelor-degree</th>\n      <td>0.305918</td>\n      <td>NaN</td>\n      <td>13553.108108</td>\n    </tr>\n    <tr>\n      <th>certificate-degree</th>\n      <td>0.193958</td>\n      <td>NaN</td>\n      <td>6945.752336</td>\n    </tr>\n    <tr>\n      <th rowspan=\"4\" valign=\"top\">Southwest</th>\n      <th>Graduate degree</th>\n      <td>NaN</td>\n      <td>NaN</td>\n      <td>NaN</td>\n    </tr>\n    <tr>\n      <th>associate</th>\n      <td>0.165527</td>\n      <td>NaN</td>\n      <td>6931.965517</td>\n    </tr>\n    <tr>\n      <th>bachelor-degree</th>\n      <td>0.254297</td>\n      <td>NaN</td>\n      <td>11817.450000</td>\n    </tr>\n    <tr>\n      <th>certificate-degree</th>\n      <td>0.373820</td>\n      <td>NaN</td>\n      <td>5860.438356</td>\n    </tr>\n    <tr>\n      <th>U.S. Service Schools</th>\n      <th>bachelor-degree</th>\n      <td>0.692100</td>\n      <td>NaN</td>\n      <td>6866.000000</td>\n    </tr>\n  </tbody>\n</table>\n</div>",
            "text/plain": "                                          Complete  Earnings       Tuition\nRegion               Predominate_Degrees                                  \nFar West             Graduate degree           NaN       NaN           NaN\n                     associate            0.332456       NaN   6755.428571\n                     bachelor-degree      0.364833       NaN  12476.642857\n                     certificate-degree   0.288000       NaN   7638.113208\nGreat Lakes          Graduate degree           NaN       NaN           NaN\n                     associate            0.169155       NaN   7425.130000\n                     bachelor-degree      0.362901       NaN  14620.000000\n                     certificate-degree   0.000000       NaN  10053.023529\nMid East             Graduate degree           NaN       NaN           NaN\n                     associate            0.278765       NaN   8499.030928\n                     bachelor-degree      0.389311       NaN  16421.102041\n                     certificate-degree   0.492675       NaN  13756.676923\nNew England          Graduate degree           NaN       NaN           NaN\n                     associate            0.238333       NaN   9588.581395\n                     bachelor-degree      0.498908       NaN  16198.975000\n                     certificate-degree   0.750000       NaN  13425.705882\nOutlying ares        Graduate degree           NaN       NaN           NaN\n                     associate            0.111564       NaN   2994.454545\n                     bachelor-degree      0.097698       NaN   5491.857143\n                     certificate-degree   0.094250       NaN    991.000000\nPlains               Graduate degree      0.000000       NaN           NaN\n                     associate            0.175448       NaN   9025.658824\n                     bachelor-degree      0.350548       NaN  14392.811321\n                     certificate-degree   0.438100       NaN  11767.872340\nRocky Mountains      Graduate degree           NaN       NaN           NaN\n                     associate            0.178025       NaN   8149.750000\n                     bachelor-degree      0.250179       NaN  14884.285714\n                     certificate-degree   1.000000       NaN   8202.300000\nSoutheast            Graduate degree           NaN       NaN           NaN\n                     associate            0.216206       NaN   6938.406250\n                     bachelor-degree      0.305918       NaN  13553.108108\n                     certificate-degree   0.193958       NaN   6945.752336\nSouthwest            Graduate degree           NaN       NaN           NaN\n                     associate            0.165527       NaN   6931.965517\n                     bachelor-degree      0.254297       NaN  11817.450000\n                     certificate-degree   0.373820       NaN   5860.438356\nU.S. Service Schools bachelor-degree      0.692100       NaN   6866.000000"
          },
          "metadata": {}
        }
      ]
    },
    {
      "metadata": {
        "trusted": true
      },
      "cell_type": "code",
      "source": "",
      "execution_count": null,
      "outputs": []
    }
  ],
  "metadata": {
    "kernelspec": {
      "name": "python3",
      "display_name": "Python 3",
      "language": "python"
    },
    "language_info": {
      "mimetype": "text/x-python",
      "nbconvert_exporter": "python",
      "name": "python",
      "pygments_lexer": "ipython3",
      "version": "3.5.4",
      "file_extension": ".py",
      "codemirror_mode": {
        "version": 3,
        "name": "ipython"
      }
    }
  },
  "nbformat": 4,
  "nbformat_minor": 2
}